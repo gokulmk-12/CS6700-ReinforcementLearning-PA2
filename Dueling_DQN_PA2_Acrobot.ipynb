{
  "cells": [
    {
      "cell_type": "markdown",
      "metadata": {},
      "source": [
        "## Installing Necessary Packages"
      ]
    },
    {
      "cell_type": "code",
      "execution_count": 80,
      "metadata": {
        "id": "CfZC3U4R3vvI"
      },
      "outputs": [],
      "source": [
        "!apt-get install -y xvfb python-opengl ffmpeg > /dev/null 2>&1\n",
        "!pip install -U colabgymrender &> /dev/null\n",
        "!pip install imageio==2.4.1 &> /dev/null\n",
        "!pip install --upgrade AutoROM &> /dev/null\n",
        "!AutoROM --accept-license &> /dev/null\n",
        "!pip install gym[atari,accept-rom-license] &> /dev/null"
      ]
    },
    {
      "cell_type": "markdown",
      "metadata": {},
      "source": [
        "## Importing Necessary Packages"
      ]
    },
    {
      "cell_type": "code",
      "execution_count": 81,
      "metadata": {
        "id": "r0NjXyr9whAf"
      },
      "outputs": [],
      "source": [
        "import gym\n",
        "import os\n",
        "import torch\n",
        "import random\n",
        "import torch.nn as nn\n",
        "import torch.optim as optim\n",
        "import matplotlib.pyplot as plt\n",
        "import numpy as np\n",
        "import torch.nn.functional as f\n",
        "from collections import namedtuple, deque\n",
        "%matplotlib inline\n",
        "from IPython import display as ipythondisplay\n",
        "import warnings\n",
        "warnings.filterwarnings(\"ignore\", category=DeprecationWarning)"
      ]
    },
    {
      "cell_type": "markdown",
      "metadata": {},
      "source": [
        "## Hyperparameters"
      ]
    },
    {
      "cell_type": "code",
      "execution_count": 82,
      "metadata": {
        "id": "nztSfn4pxEAO"
      },
      "outputs": [],
      "source": [
        "BATCH_SIZE = 128\n",
        "BUFFER_SIZE = 1000000\n",
        "GAMMA = 0.99\n",
        "LR = 0.00025\n",
        "FREQUENCY = 5\n",
        "TAU = 0.005"
      ]
    },
    {
      "cell_type": "markdown",
      "metadata": {},
      "source": [
        "## Replay Buffer (Store <state, action, reward, next_state, done>)"
      ]
    },
    {
      "cell_type": "code",
      "execution_count": 83,
      "metadata": {
        "id": "vTFHRt_O1Nx0"
      },
      "outputs": [],
      "source": [
        "class ReplayBuffer:\n",
        "\n",
        "  def __init__(self, action_size, buffer_size, batch_size, seed):\n",
        "    self.action_size = action_size\n",
        "    self.memory = deque(maxlen=buffer_size)\n",
        "    self.batch_size = batch_size\n",
        "\n",
        "    self.experience = namedtuple(\"Experience\", field_names=[\"state\", \"action\", \"reward\", \"next_state\", \"done\"])\n",
        "    self.seed = random.seed(seed)\n",
        "\n",
        "  def add(self, state, action, reward, next_state, done):\n",
        "    self.memory.append(self.experience(state, action, reward, next_state, done))\n",
        "\n",
        "  def sample(self):\n",
        "    experience = random.sample(self.memory, k=self.batch_size)\n",
        "\n",
        "    states = torch.from_numpy(np.vstack([i.state for i in experience if i is not None])).float()\n",
        "    actions = torch.from_numpy(np.vstack([i.action for i in experience if i is not None])).float()\n",
        "    rewards = torch.from_numpy(np.vstack([i.reward for i in experience if i is not None])).float()\n",
        "    next_states = torch.from_numpy(np.vstack([i.next_state for i in experience if i is not None])).float()\n",
        "    dones = torch.from_numpy(np.vstack([i.done for i in experience if i is not None]).astype(np.uint8)).float()\n",
        "\n",
        "    return (states, actions, rewards, next_states, dones)\n",
        "\n",
        "  def __len__(self):\n",
        "    return len(self.memory)\n"
      ]
    },
    {
      "cell_type": "markdown",
      "metadata": {},
      "source": [
        "## Newtork Type 1 (Mean Advantage)"
      ]
    },
    {
      "cell_type": "code",
      "execution_count": 84,
      "metadata": {
        "id": "MxEogkmGzbZA"
      },
      "outputs": [],
      "source": [
        "class QNetworkType1(nn.Module):\n",
        "\n",
        "  def __init__(self, state_size, action_size, seed):\n",
        "    super(QNetworkType1, self).__init__()\n",
        "    self.seed = torch.manual_seed(seed)\n",
        "\n",
        "    self.layer1 = nn.Linear(state_size, 128)\n",
        "    self.layer2 = nn.Linear(128, 128)\n",
        "\n",
        "    self.value_function = nn.Linear(128, 1)\n",
        "\n",
        "    self.advantage = nn.Linear(128, action_size)\n",
        "\n",
        "  def forward(self, state):\n",
        "\n",
        "    x = f.relu(self.layer2(f.relu(self.layer1(state))))\n",
        "    value_function = self.value_function(x)\n",
        "    advantage = self.advantage(x)\n",
        "\n",
        "    return value_function + (advantage-advantage.mean(dim=1, keepdim=True))"
      ]
    },
    {
      "cell_type": "markdown",
      "metadata": {},
      "source": [
        "## Network Type 2 (Max Advantage)"
      ]
    },
    {
      "cell_type": "code",
      "execution_count": 85,
      "metadata": {
        "id": "638yBOPI1mE8"
      },
      "outputs": [],
      "source": [
        "class QNetworkType2(nn.Module):\n",
        "\n",
        "  def __init__(self, state_size, action_size, seed):\n",
        "    super(QNetworkType2, self).__init__()\n",
        "    self.seed = torch.manual_seed(seed)\n",
        "\n",
        "    self.layer1 = nn.Linear(state_size, 128)\n",
        "    self.layer2 = nn.Linear(128, 128)\n",
        "\n",
        "    self.value_function = nn.Linear(128, 1)\n",
        "\n",
        "    self.advantage = nn.Linear(128, action_size)\n",
        "\n",
        "  def forward(self, state):\n",
        "\n",
        "    x = f.relu(self.layer2(f.relu(self.layer1(state))))\n",
        "    value_function = self.value_function(x)\n",
        "    advantage = self.advantage(x)\n",
        "\n",
        "    return value_function + (advantage-advantage.max(dim=1, keepdim=True)[0])"
      ]
    },
    {
      "cell_type": "markdown",
      "metadata": {},
      "source": [
        "## Agent"
      ]
    },
    {
      "cell_type": "code",
      "execution_count": 86,
      "metadata": {
        "id": "lHRKWxSk60HU"
      },
      "outputs": [],
      "source": [
        "class Agent():\n",
        "  def __init__(self, state_size, action_size, seed, qnetwork = QNetworkType1):\n",
        "    self.state_size = state_size\n",
        "    self.action_size = action_size\n",
        "    self.seed = random.seed(seed)\n",
        "\n",
        "    self.qnetworkPrimary = qnetwork(state_size, action_size, seed)\n",
        "    self.qnetworkTarget = qnetwork(state_size, action_size, seed)\n",
        "\n",
        "    self.optimizer = optim.Adam(self.qnetworkPrimary.parameters(), lr=LR)\n",
        "\n",
        "    self.memory = ReplayBuffer(action_size, BUFFER_SIZE, BATCH_SIZE, seed)\n",
        "    self.timestep = 0\n",
        "\n",
        "  def step(self, state, action, reward, next_state, done):\n",
        "    self.memory.add(state, action, reward, next_state, done)\n",
        "\n",
        "    self.timestep = (self.timestep + 1) % FREQUENCY\n",
        "    if self.timestep == 0:\n",
        "      if len(self.memory) > BATCH_SIZE:\n",
        "        experiences = self.memory.sample()\n",
        "        self.learn(experiences, GAMMA)\n",
        "\n",
        "  def learn(self, experience, gamma):\n",
        "    states, actions, rewards, next_states, dones = experience\n",
        "\n",
        "    q_nextTarget = self.qnetworkTarget(next_states).detach().max(1)[0].unsqueeze(1)\n",
        "    actions = actions.type(torch.int64)\n",
        "    q_Target = rewards + (gamma*q_nextTarget*(1-dones))\n",
        "    q_Expected = self.qnetworkPrimary(states).gather(1, actions)\n",
        "\n",
        "    loss = f.mse_loss(q_Expected, q_Target)\n",
        "\n",
        "    self.optimizer.zero_grad()\n",
        "    loss.backward()\n",
        "    self.optimizer.step()\n",
        "\n",
        "    self.update(self.qnetworkPrimary, self.qnetworkTarget, TAU)\n",
        "\n",
        "  def update(self, primaryNetwork, targetNetwork, tau):\n",
        "\n",
        "    for target_param, local_param in zip(targetNetwork.parameters(), primaryNetwork.parameters()):\n",
        "      target_param.data.copy_(tau*local_param.data + (1 - tau)*target_param.data)\n",
        "\n",
        "  def move(self, state, eps=0):\n",
        "    state = torch.from_numpy(state).float().unsqueeze(0)\n",
        "    self.qnetworkPrimary.eval()\n",
        "    with torch.no_grad():\n",
        "      action_values = self.qnetworkPrimary(state)\n",
        "    self.qnetworkPrimary.train()\n",
        "\n",
        "    if random.random() > eps:\n",
        "      return np.argmax(action_values.data.numpy())\n",
        "    else:\n",
        "      return random.choice(np.arange(self.action_size))"
      ]
    },
    {
      "cell_type": "markdown",
      "metadata": {},
      "source": [
        "## Dueling DQN "
      ]
    },
    {
      "cell_type": "code",
      "execution_count": 87,
      "metadata": {
        "id": "pvJgsawz62-f"
      },
      "outputs": [],
      "source": [
        "def duelingDQN(agent, episodes = 2000, max_timestep = 1000, ep_start = 1.0, ep_end = 0.001, ep_decay = 0.9975, exp_no = 3):\n",
        "  scores= []\n",
        "  scores_window = deque(maxlen = 100)\n",
        "  epsilon = ep_start\n",
        "\n",
        "  for episode in range(1, episodes+1):\n",
        "    state = env.reset()\n",
        "    score = 0\n",
        "\n",
        "    for t in range(max_timestep):\n",
        "      action = agent.move(state, epsilon)\n",
        "      next_state, reward, done, _ = env.step(action)\n",
        "      agent.step(state, action, reward, next_state, done)\n",
        "      score+=reward\n",
        "      state = next_state\n",
        "      if done:\n",
        "        break\n",
        "\n",
        "    scores_window.append(score)\n",
        "    scores.append(score)\n",
        "    epsilon = max(ep_end, ep_decay*epsilon)\n",
        "\n",
        "    # print(f'Episode {episode}    Average Score: {np.mean(scores_window)}')\n",
        "    if episode % 100 == 0:\n",
        "      print(f'Episode {episode}    Average Score: {np.mean(scores_window)}')\n",
        "    if np.mean(scores_window) >= env.spec.reward_threshold:\n",
        "      print(f\"Environment solved in {episode} episodes !!!!   Average Score: {np.mean(scores_window)}\")\n",
        "      file_name = 'acrobot_model_weights'+str(exp_no)+'.pth'\n",
        "      torch.save(agent.qnetworkPrimary.state_dict(), file_name)\n",
        "      break\n",
        "\n",
        "  return scores"
      ]
    },
    {
      "cell_type": "markdown",
      "metadata": {},
      "source": [
        "## Multiple Seed "
      ]
    },
    {
      "cell_type": "code",
      "execution_count": 88,
      "metadata": {},
      "outputs": [],
      "source": [
        "def multiple_experiments(agent, num_seeds=5, exp_no = 1):\n",
        "    all_scores = []\n",
        "    min_length = float('inf')\n",
        "\n",
        "    for seed in range(num_seeds):\n",
        "        print(f\"\\nTraining with seed {seed+1}\\n\")\n",
        "        env.seed(seed)\n",
        "        scores = duelingDQN(agent=agent, exp_no = exp_no)\n",
        "        all_scores.append(scores)\n",
        "\n",
        "        min_length = min(min_length, len(scores))\n",
        "    # Calculate the average scores across all seeds for each episode\n",
        "\n",
        "    all_scores_dim = [score[:min_length] for score in all_scores]\n",
        "    return all_scores_dim"
      ]
    },
    {
      "cell_type": "markdown",
      "metadata": {},
      "source": [
        "## Experiment 1: Acrobot - Type 1 "
      ]
    },
    {
      "cell_type": "code",
      "execution_count": 89,
      "metadata": {
        "colab": {
          "base_uri": "https://localhost:8080/"
        },
        "id": "w-YIhTjG6Xe9",
        "outputId": "44be7fba-ddb8-462c-e0a0-e9d96e43b07e"
      },
      "outputs": [
        {
          "name": "stdout",
          "output_type": "stream",
          "text": [
            "######## Experiment 1: Dueling DQN Type 1 ############\n",
            "\n",
            "######## Environment 1: Acrobot ############\n",
            " \n",
            "Observation Space: Box([ -1.        -1.        -1.        -1.       -12.566371 -28.274334], [ 1.        1.        1.        1.       12.566371 28.274334], (6,), float32)\n",
            "\n",
            "Observation Space Shape: (6,)\n",
            "\n",
            "Action Space: Discrete(3)\n",
            "\n",
            "Number of Actions: 3\n",
            "\n",
            "Reward Threshold: -100.0\n"
          ]
        }
      ],
      "source": [
        "print(\"######## Experiment 1: Dueling DQN Type 1 ############\\n\")\n",
        "print(\"######## Environment 1: Acrobot ############\")\n",
        "print(\" \")\n",
        "env = gym.make('Acrobot-v1')\n",
        "env.seed(0)\n",
        "\n",
        "print(f\"Observation Space: {env.observation_space}\\n\")\n",
        "print(f\"Observation Space Shape: {env.observation_space.shape}\\n\")\n",
        "print(f\"Action Space: {env.action_space}\\n\")\n",
        "print(f\"Number of Actions: {env.action_space.n}\\n\")\n",
        "print(f\"Reward Threshold: {env.spec.reward_threshold}\")\n",
        "\n",
        "acrobot_agent_type1 = Agent(state_size=env.observation_space.shape[0], action_size=env.action_space.n, seed=0, qnetwork=QNetworkType1)"
      ]
    },
    {
      "cell_type": "markdown",
      "metadata": {},
      "source": [
        "## Training Over 5 Random Seeds"
      ]
    },
    {
      "cell_type": "code",
      "execution_count": 90,
      "metadata": {
        "colab": {
          "base_uri": "https://localhost:8080/"
        },
        "id": "YopQjvz3MSlP",
        "outputId": "9e41cc54-2575-45b4-c41c-173444e93151"
      },
      "outputs": [
        {
          "name": "stdout",
          "output_type": "stream",
          "text": [
            "\n",
            "Training with seed 1\n",
            "\n"
          ]
        },
        {
          "name": "stdout",
          "output_type": "stream",
          "text": [
            "Episode 100    Average Score: -472.67\n",
            "Episode 200    Average Score: -277.78\n",
            "Episode 300    Average Score: -177.22\n",
            "Episode 400    Average Score: -137.64\n",
            "Episode 500    Average Score: -128.36\n",
            "Episode 600    Average Score: -111.99\n",
            "Episode 700    Average Score: -107.15\n",
            "Environment solved in 768 episodes !!!!   Average Score: -99.93\n",
            "\n",
            "Training with seed 2\n",
            "\n",
            "Episode 100    Average Score: -414.74\n",
            "Episode 200    Average Score: -227.37\n",
            "Episode 300    Average Score: -164.45\n",
            "Episode 400    Average Score: -126.98\n",
            "Episode 500    Average Score: -114.57\n",
            "Episode 600    Average Score: -105.77\n",
            "Environment solved in 665 episodes !!!!   Average Score: -99.93\n",
            "\n",
            "Training with seed 3\n",
            "\n",
            "Episode 100    Average Score: -418.35\n",
            "Episode 200    Average Score: -219.01\n",
            "Episode 300    Average Score: -157.52\n",
            "Episode 400    Average Score: -127.61\n",
            "Episode 500    Average Score: -119.08\n",
            "Episode 600    Average Score: -104.93\n",
            "Environment solved in 666 episodes !!!!   Average Score: -99.97\n",
            "\n",
            "Training with seed 4\n",
            "\n",
            "Episode 100    Average Score: -408.44\n",
            "Episode 200    Average Score: -220.16\n",
            "Episode 300    Average Score: -153.88\n",
            "Episode 400    Average Score: -126.67\n",
            "Episode 500    Average Score: -112.92\n",
            "Episode 600    Average Score: -103.51\n",
            "Environment solved in 625 episodes !!!!   Average Score: -99.57\n",
            "\n",
            "Training with seed 5\n",
            "\n",
            "Episode 100    Average Score: -416.94\n",
            "Episode 200    Average Score: -223.55\n",
            "Episode 300    Average Score: -158.85\n",
            "Episode 400    Average Score: -128.42\n",
            "Episode 500    Average Score: -111.86\n",
            "Episode 600    Average Score: -106.29\n",
            "Environment solved in 648 episodes !!!!   Average Score: -99.97\n"
          ]
        }
      ],
      "source": [
        "scores_experiment1 = multiple_experiments(agent=acrobot_agent_type1, exp_no=1)"
      ]
    },
    {
      "cell_type": "markdown",
      "metadata": {},
      "source": [
        "## Training Once (Save Model)"
      ]
    },
    {
      "cell_type": "code",
      "execution_count": 91,
      "metadata": {
        "colab": {
          "base_uri": "https://localhost:8080/"
        },
        "id": "rguF9mue9myO",
        "outputId": "dde9aded-563d-483e-c5f2-a19c49927f39"
      },
      "outputs": [
        {
          "name": "stdout",
          "output_type": "stream",
          "text": [
            "Episode 100    Average Score: -420.54\n",
            "Episode 200    Average Score: -222.28\n",
            "Episode 300    Average Score: -156.55\n",
            "Episode 400    Average Score: -127.02\n",
            "Episode 500    Average Score: -109.72\n",
            "Episode 600    Average Score: -105.09\n",
            "Environment solved in 657 episodes !!!!   Average Score: -99.94\n"
          ]
        }
      ],
      "source": [
        "scores = duelingDQN(agent=acrobot_agent_type1, exp_no = 1)"
      ]
    },
    {
      "cell_type": "markdown",
      "metadata": {},
      "source": [
        "## Test Model (Video)"
      ]
    },
    {
      "cell_type": "code",
      "execution_count": 92,
      "metadata": {
        "colab": {
          "base_uri": "https://localhost:8080/"
        },
        "id": "n77ILh0R6hmY",
        "outputId": "1314a030-38ed-4015-f7b0-f97bdf9ad975"
      },
      "outputs": [
        {
          "name": "stderr",
          "output_type": "stream",
          "text": [
            "ffmpeg version 4.2.7-0ubuntu0.1 Copyright (c) 2000-2022 the FFmpeg developers\n",
            "  built with gcc 9 (Ubuntu 9.4.0-1ubuntu1~20.04.1)\n",
            "  configuration: --prefix=/usr --extra-version=0ubuntu0.1 --toolchain=hardened --libdir=/usr/lib/x86_64-linux-gnu --incdir=/usr/include/x86_64-linux-gnu --arch=amd64 --enable-gpl --disable-stripping --enable-avresample --disable-filter=resample --enable-avisynth --enable-gnutls --enable-ladspa --enable-libaom --enable-libass --enable-libbluray --enable-libbs2b --enable-libcaca --enable-libcdio --enable-libcodec2 --enable-libflite --enable-libfontconfig --enable-libfreetype --enable-libfribidi --enable-libgme --enable-libgsm --enable-libjack --enable-libmp3lame --enable-libmysofa --enable-libopenjpeg --enable-libopenmpt --enable-libopus --enable-libpulse --enable-librsvg --enable-librubberband --enable-libshine --enable-libsnappy --enable-libsoxr --enable-libspeex --enable-libssh --enable-libtheora --enable-libtwolame --enable-libvidstab --enable-libvorbis --enable-libvpx --enable-libwavpack --enable-libwebp --enable-libx265 --enable-libxml2 --enable-libxvid --enable-libzmq --enable-libzvbi --enable-lv2 --enable-omx --enable-openal --enable-opencl --enable-opengl --enable-sdl2 --enable-libdc1394 --enable-libdrm --enable-libiec61883 --enable-nvenc --enable-chromaprint --enable-frei0r --enable-libx264 --enable-shared\n",
            "  libavutil      56. 31.100 / 56. 31.100\n",
            "  libavcodec     58. 54.100 / 58. 54.100\n",
            "  libavformat    58. 29.100 / 58. 29.100\n",
            "  libavdevice    58.  8.100 / 58.  8.100\n",
            "  libavfilter     7. 57.100 /  7. 57.100\n",
            "  libavresample   4.  0.  0 /  4.  0.  0\n",
            "  libswscale      5.  5.100 /  5.  5.100\n",
            "  libswresample   3.  5.100 /  3.  5.100\n",
            "  libpostproc    55.  5.100 / 55.  5.100\n",
            "Input #0, image2, from './acrobot_images_experiment1/frame_%d.png':\n",
            "  Duration: 00:00:03.00, start: 0.000000, bitrate: N/A\n",
            "    Stream #0:0: Video: png, rgba(pc), 500x500 [SAR 3937:3937 DAR 1:1], 25 fps, 25 tbr, 25 tbn, 25 tbc\n",
            "Stream mapping:\n",
            "  Stream #0:0 -> #0:0 (png (native) -> h264 (libx264))\n",
            "Press [q] to stop, [?] for help\n",
            "[libx264 @ 0x55ce28578380] using SAR=1/1\n",
            "[libx264 @ 0x55ce28578380] using cpu capabilities: MMX2 SSE2Fast SSSE3 SSE4.2 AVX FMA3 BMI2 AVX2 AVX512\n",
            "[libx264 @ 0x55ce28578380] profile High, level 3.0\n",
            "[libx264 @ 0x55ce28578380] 264 - core 155 r2917 0a84d98 - H.264/MPEG-4 AVC codec - Copyleft 2003-2018 - http://www.videolan.org/x264.html - options: cabac=1 ref=3 deblock=1:0:0 analyse=0x3:0x113 me=hex subme=7 psy=1 psy_rd=1.00:0.00 mixed_ref=1 me_range=16 chroma_me=1 trellis=1 8x8dct=1 cqm=0 deadzone=21,11 fast_pskip=1 chroma_qp_offset=-2 threads=12 lookahead_threads=2 sliced_threads=0 nr=0 decimate=1 interlaced=0 bluray_compat=0 constrained_intra=0 bframes=3 b_pyramid=2 b_adapt=1 b_bias=0 direct=1 weightb=1 open_gop=0 weightp=2 keyint=250 keyint_min=25 scenecut=40 intra_refresh=0 rc_lookahead=40 rc=crf mbtree=1 crf=23.0 qcomp=0.60 qpmin=0 qpmax=69 qpstep=4 ip_ratio=1.40 aq=1:1.00\n",
            "Output #0, mp4, to './acrobot_video_experiment1.mp4':\n",
            "  Metadata:\n",
            "    encoder         : Lavf58.29.100\n",
            "    Stream #0:0: Video: h264 (libx264) (avc1 / 0x31637661), yuv420p, 500x500 [SAR 1:1 DAR 1:1], q=-1--1, 25 fps, 12800 tbn, 25 tbc\n",
            "    Metadata:\n",
            "      encoder         : Lavc58.54.100 libx264\n",
            "    Side data:\n",
            "      cpb: bitrate max/min/avg: 0/0/0 buffer size: 0 vbv_delay: -1\n",
            "frame=   75 fps=0.0 q=-1.0 Lsize=      58kB time=00:00:02.88 bitrate= 165.4kbits/s speed= 8.7x    \n",
            "video:57kB audio:0kB subtitle:0kB other streams:0kB global headers:0kB muxing overhead: 2.616610%\n",
            "[libx264 @ 0x55ce28578380] frame I:2     Avg QP:12.45  size:  1420\n",
            "[libx264 @ 0x55ce28578380] frame P:49    Avg QP:22.08  size:   808\n",
            "[libx264 @ 0x55ce28578380] frame B:24    Avg QP:22.45  size:   620\n",
            "[libx264 @ 0x55ce28578380] consecutive B-frames: 45.3% 32.0% 12.0% 10.7%\n",
            "[libx264 @ 0x55ce28578380] mb I  I16..4: 85.0% 11.4%  3.6%\n",
            "[libx264 @ 0x55ce28578380] mb P  I16..4:  0.3%  1.9%  1.4%  P16..4:  1.4%  1.1%  0.4%  0.0%  0.0%    skip:93.5%\n",
            "[libx264 @ 0x55ce28578380] mb B  I16..4:  0.1%  0.1%  0.5%  B16..8:  4.7%  1.7%  0.5%  direct: 0.2%  skip:92.3%  L0:44.5% L1:51.4% BI: 4.1%\n",
            "[libx264 @ 0x55ce28578380] 8x8 transform intra:30.4% inter:4.2%\n",
            "[libx264 @ 0x55ce28578380] coded y,uvDC,uvAC intra: 11.3% 26.2% 24.7% inter: 0.6% 1.3% 1.2%\n",
            "[libx264 @ 0x55ce28578380] i16 v,h,dc,p: 86%  9%  5%  0%\n",
            "[libx264 @ 0x55ce28578380] i8 v,h,dc,ddl,ddr,vr,hd,vl,hu: 25% 14% 59%  1%  1%  0%  0%  0%  0%\n",
            "[libx264 @ 0x55ce28578380] i4 v,h,dc,ddl,ddr,vr,hd,vl,hu: 25% 18% 39%  3%  3%  4%  4%  3%  2%\n",
            "[libx264 @ 0x55ce28578380] i8c dc,h,v,p: 78%  9% 11%  2%\n",
            "[libx264 @ 0x55ce28578380] Weighted P-Frames: Y:0.0% UV:0.0%\n",
            "[libx264 @ 0x55ce28578380] ref P L0: 62.0%  4.3% 17.7% 16.0%\n",
            "[libx264 @ 0x55ce28578380] ref B L0: 77.9% 18.3%  3.8%\n",
            "[libx264 @ 0x55ce28578380] ref B L1: 99.7%  0.3%\n",
            "[libx264 @ 0x55ce28578380] kb/s:152.86\n"
          ]
        },
        {
          "data": {
            "text/plain": [
              "0"
            ]
          },
          "execution_count": 92,
          "metadata": {},
          "output_type": "execute_result"
        }
      ],
      "source": [
        "acrobot_agent_type1.qnetworkPrimary.load_state_dict(torch.load('acrobot_model_weights1.pth'))\n",
        "\n",
        "frames = []\n",
        "for _ in range(1):\n",
        "    state = env.reset()\n",
        "    for _ in range(500):\n",
        "        action = acrobot_agent_type1.move(state)\n",
        "        state, _, done, _ = env.step(action)\n",
        "        frames.append(env.render(mode='rgb_array'))\n",
        "        if done:\n",
        "            break\n",
        "\n",
        "image_dir = './acrobot_images_experiment1'\n",
        "os.makedirs(image_dir, exist_ok=True)\n",
        "for i, frame in enumerate(frames):\n",
        "    image_path = os.path.join(image_dir, f'frame_{i}.png')\n",
        "    plt.imsave(image_path, frame)\n",
        "\n",
        "import subprocess\n",
        "video_path = './acrobot_video_experiment1.mp4'\n",
        "subprocess.call(['ffmpeg', '-framerate', '25', '-i', os.path.join(image_dir, 'frame_%d.png'), '-c:v', 'libx264', '-pix_fmt', 'yuv420p', video_path])"
      ]
    },
    {
      "cell_type": "markdown",
      "metadata": {},
      "source": [
        "## Experiment 2: Acrobot - Type 2"
      ]
    },
    {
      "cell_type": "code",
      "execution_count": 93,
      "metadata": {
        "colab": {
          "base_uri": "https://localhost:8080/"
        },
        "id": "--zLtYWu9blS",
        "outputId": "1ebd08a5-4f65-4e91-bf64-d47ce2aa0f6f"
      },
      "outputs": [
        {
          "name": "stdout",
          "output_type": "stream",
          "text": [
            "######## Experiment 2: Dueling DQN Type 2 ############\n",
            "\n",
            "######## Environment 1: Acrobot ############\n",
            " \n",
            "Observation Space: Box([ -1.        -1.        -1.        -1.       -12.566371 -28.274334], [ 1.        1.        1.        1.       12.566371 28.274334], (6,), float32)\n",
            "\n",
            "Observation Space Shape: (6,)\n",
            "\n",
            "Action Space: Discrete(3)\n",
            "\n",
            "Number of Actions: 3\n",
            "\n",
            "Reward Threshold: -100.0\n"
          ]
        }
      ],
      "source": [
        "print(\"######## Experiment 2: Dueling DQN Type 2 ############\\n\")\n",
        "print(\"######## Environment 1: Acrobot ############\")\n",
        "print(\" \")\n",
        "env = gym.make('Acrobot-v1')\n",
        "env.seed(0)\n",
        "\n",
        "print(f\"Observation Space: {env.observation_space}\\n\")\n",
        "print(f\"Observation Space Shape: {env.observation_space.shape}\\n\")\n",
        "print(f\"Action Space: {env.action_space}\\n\")\n",
        "print(f\"Number of Actions: {env.action_space.n}\\n\")\n",
        "print(f\"Reward Threshold: {env.spec.reward_threshold}\")\n",
        "\n",
        "acrobot_agent_type2 = Agent(state_size=env.observation_space.shape[0], action_size=env.action_space.n, seed=0, qnetwork=QNetworkType2)"
      ]
    },
    {
      "cell_type": "markdown",
      "metadata": {},
      "source": [
        "## Training Over 5 Random Seeds"
      ]
    },
    {
      "cell_type": "code",
      "execution_count": 94,
      "metadata": {
        "colab": {
          "base_uri": "https://localhost:8080/"
        },
        "id": "4lBtZpBw9uG6",
        "outputId": "7b085fac-74cb-471b-e9dd-9498ae351452"
      },
      "outputs": [
        {
          "name": "stdout",
          "output_type": "stream",
          "text": [
            "\n",
            "Training with seed 1\n",
            "\n",
            "Episode 100    Average Score: -453.23\n",
            "Episode 200    Average Score: -249.66\n",
            "Episode 300    Average Score: -159.46\n",
            "Episode 400    Average Score: -135.06\n",
            "Episode 500    Average Score: -123.68\n",
            "Episode 600    Average Score: -108.64\n",
            "Episode 700    Average Score: -101.94\n",
            "Environment solved in 731 episodes !!!!   Average Score: -98.8\n",
            "\n",
            "Training with seed 2\n",
            "\n",
            "Episode 100    Average Score: -416.53\n",
            "Episode 200    Average Score: -227.91\n",
            "Episode 300    Average Score: -154.77\n",
            "Episode 400    Average Score: -129.84\n",
            "Episode 500    Average Score: -112.21\n",
            "Episode 600    Average Score: -108.65\n",
            "Environment solved in 655 episodes !!!!   Average Score: -99.95\n",
            "\n",
            "Training with seed 3\n",
            "\n",
            "Episode 100    Average Score: -423.7\n",
            "Episode 200    Average Score: -226.81\n",
            "Episode 300    Average Score: -149.22\n",
            "Episode 400    Average Score: -132.96\n",
            "Episode 500    Average Score: -112.23\n",
            "Episode 600    Average Score: -104.08\n",
            "Environment solved in 621 episodes !!!!   Average Score: -99.95\n",
            "\n",
            "Training with seed 4\n",
            "\n",
            "Episode 100    Average Score: -411.52\n",
            "Episode 200    Average Score: -219.09\n",
            "Episode 300    Average Score: -156.96\n",
            "Episode 400    Average Score: -126.37\n",
            "Episode 500    Average Score: -115.31\n",
            "Episode 600    Average Score: -108.1\n",
            "Environment solved in 665 episodes !!!!   Average Score: -99.69\n",
            "\n",
            "Training with seed 5\n",
            "\n",
            "Episode 100    Average Score: -415.75\n",
            "Episode 200    Average Score: -227.1\n",
            "Episode 300    Average Score: -152.73\n",
            "Episode 400    Average Score: -126.82\n",
            "Episode 500    Average Score: -114.18\n",
            "Episode 600    Average Score: -102.8\n",
            "Environment solved in 683 episodes !!!!   Average Score: -99.99\n"
          ]
        }
      ],
      "source": [
        "scores_experiment2 = multiple_experiments(agent=acrobot_agent_type2, exp_no=2)"
      ]
    },
    {
      "cell_type": "markdown",
      "metadata": {},
      "source": [
        "## Training Once (Save Model)"
      ]
    },
    {
      "cell_type": "code",
      "execution_count": 95,
      "metadata": {
        "colab": {
          "base_uri": "https://localhost:8080/"
        },
        "id": "gXSOC6fZ9uLe",
        "outputId": "0ebec978-7df7-41c5-d11e-9030fc499930"
      },
      "outputs": [
        {
          "name": "stdout",
          "output_type": "stream",
          "text": [
            "Episode 100    Average Score: -419.9\n",
            "Episode 200    Average Score: -223.82\n",
            "Episode 300    Average Score: -151.67\n",
            "Episode 400    Average Score: -126.78\n",
            "Episode 500    Average Score: -115.55\n",
            "Episode 600    Average Score: -102.7\n",
            "Environment solved in 615 episodes !!!!   Average Score: -99.95\n"
          ]
        }
      ],
      "source": [
        "scores = duelingDQN(agent=acrobot_agent_type2, exp_no = 2)"
      ]
    },
    {
      "cell_type": "markdown",
      "metadata": {},
      "source": [
        "## Testing Model (Video)"
      ]
    },
    {
      "cell_type": "code",
      "execution_count": 96,
      "metadata": {
        "colab": {
          "base_uri": "https://localhost:8080/"
        },
        "id": "hr43K26-9yMe",
        "outputId": "536f6ac0-97a8-406c-9d7c-ca16b7883651"
      },
      "outputs": [
        {
          "name": "stderr",
          "output_type": "stream",
          "text": [
            "ffmpeg version 4.2.7-0ubuntu0.1 Copyright (c) 2000-2022 the FFmpeg developers\n",
            "  built with gcc 9 (Ubuntu 9.4.0-1ubuntu1~20.04.1)\n",
            "  configuration: --prefix=/usr --extra-version=0ubuntu0.1 --toolchain=hardened --libdir=/usr/lib/x86_64-linux-gnu --incdir=/usr/include/x86_64-linux-gnu --arch=amd64 --enable-gpl --disable-stripping --enable-avresample --disable-filter=resample --enable-avisynth --enable-gnutls --enable-ladspa --enable-libaom --enable-libass --enable-libbluray --enable-libbs2b --enable-libcaca --enable-libcdio --enable-libcodec2 --enable-libflite --enable-libfontconfig --enable-libfreetype --enable-libfribidi --enable-libgme --enable-libgsm --enable-libjack --enable-libmp3lame --enable-libmysofa --enable-libopenjpeg --enable-libopenmpt --enable-libopus --enable-libpulse --enable-librsvg --enable-librubberband --enable-libshine --enable-libsnappy --enable-libsoxr --enable-libspeex --enable-libssh --enable-libtheora --enable-libtwolame --enable-libvidstab --enable-libvorbis --enable-libvpx --enable-libwavpack --enable-libwebp --enable-libx265 --enable-libxml2 --enable-libxvid --enable-libzmq --enable-libzvbi --enable-lv2 --enable-omx --enable-openal --enable-opencl --enable-opengl --enable-sdl2 --enable-libdc1394 --enable-libdrm --enable-libiec61883 --enable-nvenc --enable-chromaprint --enable-frei0r --enable-libx264 --enable-shared\n",
            "  libavutil      56. 31.100 / 56. 31.100\n",
            "  libavcodec     58. 54.100 / 58. 54.100\n",
            "  libavformat    58. 29.100 / 58. 29.100\n",
            "  libavdevice    58.  8.100 / 58.  8.100\n",
            "  libavfilter     7. 57.100 /  7. 57.100\n",
            "  libavresample   4.  0.  0 /  4.  0.  0\n",
            "  libswscale      5.  5.100 /  5.  5.100\n",
            "  libswresample   3.  5.100 /  3.  5.100\n",
            "  libpostproc    55.  5.100 / 55.  5.100\n",
            "Input #0, image2, from './acrobot_images_experiment2/frame_%d.png':\n",
            "  Duration: 00:00:03.28, start: 0.000000, bitrate: N/A\n",
            "    Stream #0:0: Video: png, rgba(pc), 500x500 [SAR 3937:3937 DAR 1:1], 25 fps, 25 tbr, 25 tbn, 25 tbc\n",
            "Stream mapping:\n",
            "  Stream #0:0 -> #0:0 (png (native) -> h264 (libx264))\n",
            "Press [q] to stop, [?] for help\n",
            "[libx264 @ 0x55746f775580] using SAR=1/1\n",
            "[libx264 @ 0x55746f775580] using cpu capabilities: MMX2 SSE2Fast SSSE3 SSE4.2 AVX FMA3 BMI2 AVX2 AVX512\n",
            "[libx264 @ 0x55746f775580] profile High, level 3.0\n",
            "[libx264 @ 0x55746f775580] 264 - core 155 r2917 0a84d98 - H.264/MPEG-4 AVC codec - Copyleft 2003-2018 - http://www.videolan.org/x264.html - options: cabac=1 ref=3 deblock=1:0:0 analyse=0x3:0x113 me=hex subme=7 psy=1 psy_rd=1.00:0.00 mixed_ref=1 me_range=16 chroma_me=1 trellis=1 8x8dct=1 cqm=0 deadzone=21,11 fast_pskip=1 chroma_qp_offset=-2 threads=12 lookahead_threads=2 sliced_threads=0 nr=0 decimate=1 interlaced=0 bluray_compat=0 constrained_intra=0 bframes=3 b_pyramid=2 b_adapt=1 b_bias=0 direct=1 weightb=1 open_gop=0 weightp=2 keyint=250 keyint_min=25 scenecut=40 intra_refresh=0 rc_lookahead=40 rc=crf mbtree=1 crf=23.0 qcomp=0.60 qpmin=0 qpmax=69 qpstep=4 ip_ratio=1.40 aq=1:1.00\n",
            "Output #0, mp4, to './acrobot_video_experiment2.mp4':\n",
            "  Metadata:\n",
            "    encoder         : Lavf58.29.100\n",
            "    Stream #0:0: Video: h264 (libx264) (avc1 / 0x31637661), yuv420p, 500x500 [SAR 1:1 DAR 1:1], q=-1--1, 25 fps, 12800 tbn, 25 tbc\n",
            "    Metadata:\n",
            "      encoder         : Lavc58.54.100 libx264\n",
            "    Side data:\n",
            "      cpb: bitrate max/min/avg: 0/0/0 buffer size: 0 vbv_delay: -1\n",
            "frame=   82 fps=0.0 q=-1.0 Lsize=      64kB time=00:00:03.16 bitrate= 164.8kbits/s speed=12.6x    \n",
            "video:62kB audio:0kB subtitle:0kB other streams:0kB global headers:0kB muxing overhead: 2.433190%\n",
            "[libx264 @ 0x55746f775580] frame I:2     Avg QP:14.33  size:  1360\n",
            "[libx264 @ 0x55746f775580] frame P:55    Avg QP:22.53  size:   842\n",
            "[libx264 @ 0x55746f775580] frame B:25    Avg QP:22.06  size:   553\n",
            "[libx264 @ 0x55746f775580] consecutive B-frames: 48.8% 24.4% 22.0%  4.9%\n",
            "[libx264 @ 0x55746f775580] mb I  I16..4: 78.2% 18.7%  3.2%\n",
            "[libx264 @ 0x55746f775580] mb P  I16..4:  0.4%  2.0%  1.6%  P16..4:  1.1%  0.9%  0.4%  0.0%  0.0%    skip:93.7%\n",
            "[libx264 @ 0x55746f775580] mb B  I16..4:  0.1%  0.1%  0.3%  B16..8:  3.0%  1.5%  0.5%  direct: 0.2%  skip:94.2%  L0:57.2% L1:39.3% BI: 3.5%\n",
            "[libx264 @ 0x55746f775580] 8x8 transform intra:34.7% inter:5.7%\n",
            "[libx264 @ 0x55746f775580] coded y,uvDC,uvAC intra: 12.0% 27.0% 25.4% inter: 0.6% 1.3% 1.2%\n",
            "[libx264 @ 0x55746f775580] i16 v,h,dc,p: 85% 10%  5%  0%\n",
            "[libx264 @ 0x55746f775580] i8 v,h,dc,ddl,ddr,vr,hd,vl,hu: 19% 17% 62%  1%  1%  0%  0%  0%  0%\n",
            "[libx264 @ 0x55746f775580] i4 v,h,dc,ddl,ddr,vr,hd,vl,hu: 24% 18% 39%  3%  4%  4%  3%  2%  2%\n",
            "[libx264 @ 0x55746f775580] i8c dc,h,v,p: 78%  9% 11%  2%\n",
            "[libx264 @ 0x55746f775580] Weighted P-Frames: Y:0.0% UV:0.0%\n",
            "[libx264 @ 0x55746f775580] ref P L0: 58.0%  5.1% 21.2% 15.7%\n",
            "[libx264 @ 0x55746f775580] ref B L0: 81.9% 14.3%  3.8%\n",
            "[libx264 @ 0x55746f775580] ref B L1: 100.0%  0.0%\n",
            "[libx264 @ 0x55746f775580] kb/s:153.29\n"
          ]
        },
        {
          "data": {
            "text/plain": [
              "0"
            ]
          },
          "execution_count": 96,
          "metadata": {},
          "output_type": "execute_result"
        }
      ],
      "source": [
        "acrobot_agent_type2.qnetworkPrimary.load_state_dict(torch.load('acrobot_model_weights2.pth'))\n",
        "\n",
        "frames = []\n",
        "for _ in range(1):\n",
        "    state = env.reset()\n",
        "    for _ in range(500):\n",
        "        action = acrobot_agent_type2.move(state)\n",
        "        state, _, done, _ = env.step(action)\n",
        "        frames.append(env.render(mode='rgb_array'))\n",
        "        if done:\n",
        "            break\n",
        "\n",
        "image_dir = './acrobot_images_experiment2'\n",
        "os.makedirs(image_dir, exist_ok=True)\n",
        "for i, frame in enumerate(frames):\n",
        "    image_path = os.path.join(image_dir, f'frame_{i}.png')\n",
        "    plt.imsave(image_path, frame)\n",
        "\n",
        "import subprocess\n",
        "video_path = './acrobot_video_experiment2.mp4'\n",
        "subprocess.call(['ffmpeg', '-framerate', '25', '-i', os.path.join(image_dir, 'frame_%d.png'), '-c:v', 'libx264', '-pix_fmt', 'yuv420p', video_path])"
      ]
    },
    {
      "cell_type": "markdown",
      "metadata": {},
      "source": [
        "## Plot for Mean and Variance (Type 1 vs Type 2)"
      ]
    },
    {
      "cell_type": "code",
      "execution_count": 97,
      "metadata": {},
      "outputs": [],
      "source": [
        "def plot_mean_variance(scores1, scores2, window_size):\n",
        "\n",
        "    scores_array_exp1 = np.array(scores1)\n",
        "    scores_array_exp2 = np.array(scores2)\n",
        "\n",
        "    mean_score_exp1 = np.mean(scores_array_exp1, axis = 0)\n",
        "    mean_score_exp2 = np.mean(scores_array_exp2, axis = 0)\n",
        "\n",
        "    var_score_exp1 = np.var(scores_array_exp1, axis = 0)\n",
        "    var_score_exp2 = np.var(scores_array_exp2, axis = 0)\n",
        "\n",
        "    std_score_exp1 = np.sqrt(var_score_exp1)\n",
        "    std_score_exp2 = np.sqrt(var_score_exp2)\n",
        "\n",
        "    smoothed_mean_score_exp1 = np.convolve(mean_score_exp1, np.ones(window_size)/window_size, mode=\"valid\")\n",
        "    smoothed_mean_score_exp2 = np.convolve(mean_score_exp2, np.ones(window_size)/window_size, mode=\"valid\")\n",
        "\n",
        "    plt.plot(range(len(smoothed_mean_score_exp1)), smoothed_mean_score_exp1, label=\"Type 1\")\n",
        "    plt.plot(range(len(smoothed_mean_score_exp2)), smoothed_mean_score_exp2, label=\"Type 2\")\n",
        "    plt.fill_between(range(len(mean_score_exp1)), mean_score_exp1 - std_score_exp1, mean_score_exp1 + std_score_exp1, alpha=0.2)\n",
        "    plt.fill_between(range(len(mean_score_exp1)), mean_score_exp1 - std_score_exp1, mean_score_exp1 + std_score_exp1, alpha=0.2)\n",
        "    plt.xlabel(\"Episode Number\")\n",
        "    plt.ylabel(\"Episode Return\")\n",
        "    plt.title(\"Dueling DQN (Acrobot)\")\n",
        "    plt.legend()\n",
        "    plt.show()"
      ]
    },
    {
      "cell_type": "code",
      "execution_count": 98,
      "metadata": {},
      "outputs": [
        {
          "data": {
            "image/png": "[encoded data removed]",
            "text/plain": [
              "<Figure size 640x480 with 1 Axes>"
            ]
          },
          "metadata": {},
          "output_type": "display_data"
        }
      ],
      "source": [
        "plot_mean_variance(scores_experiment1, scores_experiment2, window_size=10)"
      ]
    }
  ],
  "metadata": {
    "colab": {
      "provenance": []
    },
    "kernelspec": {
      "display_name": "Python 3",
      "name": "python3"
    },
    "language_info": {
      "codemirror_mode": {
        "name": "ipython",
        "version": 3
      },
      "file_extension": ".py",
      "mimetype": "text/x-python",
      "name": "python",
      "nbconvert_exporter": "python",
      "pygments_lexer": "ipython3",
      "version": "3.8.10"
    }
  },
  "nbformat": 4,
  "nbformat_minor": 0
}
