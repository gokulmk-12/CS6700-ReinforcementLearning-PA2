{
  "cells": [
    {
      "cell_type": "markdown",
      "metadata": {},
      "source": [
        "## Installing Necessary Packages"
      ]
    },
    {
      "cell_type": "code",
      "execution_count": 260,
      "metadata": {
        "id": "CfZC3U4R3vvI"
      },
      "outputs": [],
      "source": [
        "!apt-get install -y xvfb python-opengl ffmpeg > /dev/null 2>&1\n",
        "!pip install -U colabgymrender &> /dev/null\n",
        "!pip install imageio==2.4.1 &> /dev/null\n",
        "!pip install --upgrade AutoROM &> /dev/null\n",
        "!AutoROM --accept-license &> /dev/null\n",
        "!pip install gym[atari,accept-rom-license] &> /dev/null\n",
        "!pip install seaborn &> /dev/null"
      ]
    },
    {
      "cell_type": "markdown",
      "metadata": {},
      "source": [
        "## Importing Necessary Packages"
      ]
    },
    {
      "cell_type": "code",
      "execution_count": 261,
      "metadata": {
        "id": "r0NjXyr9whAf"
      },
      "outputs": [],
      "source": [
        "import gym\n",
        "import os\n",
        "import torch\n",
        "import random\n",
        "import seaborn as sns\n",
        "import torch.nn as nn\n",
        "import torch.optim as optim\n",
        "import matplotlib.pyplot as plt\n",
        "import numpy as np\n",
        "import torch.nn.functional as f\n",
        "from collections import namedtuple, deque\n",
        "%matplotlib inline\n",
        "from IPython import display as ipythondisplay\n",
        "import warnings\n",
        "warnings.filterwarnings(\"ignore\", category=DeprecationWarning)"
      ]
    },
    {
      "cell_type": "markdown",
      "metadata": {},
      "source": [
        "## Hyperparameters"
      ]
    },
    {
      "cell_type": "code",
      "execution_count": 262,
      "metadata": {
        "id": "nztSfn4pxEAO"
      },
      "outputs": [],
      "source": [
        "BATCH_SIZE = 128\n",
        "BUFFER_SIZE = 1000000\n",
        "GAMMA = 0.99\n",
        "LR = 0.00025\n",
        "FREQUENCY = 4\n",
        "TAU = 0.001"
      ]
    },
    {
      "cell_type": "markdown",
      "metadata": {},
      "source": [
        "## Replay Buffer (Store <state, action, reward, next_state, done>)"
      ]
    },
    {
      "cell_type": "code",
      "execution_count": 263,
      "metadata": {
        "id": "vTFHRt_O1Nx0"
      },
      "outputs": [],
      "source": [
        "class ReplayBuffer:\n",
        "\n",
        "  def __init__(self, action_size, buffer_size, batch_size, seed):\n",
        "    self.action_size = action_size\n",
        "    self.memory = deque(maxlen=buffer_size)\n",
        "    self.batch_size = batch_size\n",
        "\n",
        "    self.experience = namedtuple(\"Experience\", field_names=[\"state\", \"action\", \"reward\", \"next_state\", \"done\"])\n",
        "    self.seed = random.seed(seed)\n",
        "\n",
        "  def add(self, state, action, reward, next_state, done):\n",
        "    self.memory.append(self.experience(state, action, reward, next_state, done))\n",
        "\n",
        "  def sample(self):\n",
        "    experience = random.sample(self.memory, k=self.batch_size)\n",
        "\n",
        "    states = torch.from_numpy(np.vstack([i.state for i in experience if i is not None])).float()\n",
        "    actions = torch.from_numpy(np.vstack([i.action for i in experience if i is not None])).float()\n",
        "    rewards = torch.from_numpy(np.vstack([i.reward for i in experience if i is not None])).float()\n",
        "    next_states = torch.from_numpy(np.vstack([i.next_state for i in experience if i is not None])).float()\n",
        "    dones = torch.from_numpy(np.vstack([i.done for i in experience if i is not None]).astype(np.uint8)).float()\n",
        "\n",
        "    return (states, actions, rewards, next_states, dones)\n",
        "\n",
        "  def __len__(self):\n",
        "    return len(self.memory)\n"
      ]
    },
    {
      "cell_type": "markdown",
      "metadata": {},
      "source": [
        "## Newtork Type 1 (Mean Advantage)"
      ]
    },
    {
      "cell_type": "code",
      "execution_count": 264,
      "metadata": {
        "id": "MxEogkmGzbZA"
      },
      "outputs": [],
      "source": [
        "class QNetworkType1(nn.Module):\n",
        "\n",
        "  def __init__(self, state_size, action_size, seed):\n",
        "    super(QNetworkType1, self).__init__()\n",
        "    self.seed = torch.manual_seed(seed)\n",
        "\n",
        "    self.layer1 = nn.Linear(state_size, 128)\n",
        "    self.layer2 = nn.Linear(128, 128)\n",
        "\n",
        "    self.value_function = nn.Linear(128, 1)\n",
        "\n",
        "    self.advantage = nn.Linear(128, action_size)\n",
        "\n",
        "  def forward(self, state):\n",
        "\n",
        "    x = f.relu(self.layer2(f.relu(self.layer1(state))))\n",
        "    value_function = self.value_function(x)\n",
        "    advantage = self.advantage(x)\n",
        "\n",
        "    return value_function + (advantage-advantage.mean(dim=1, keepdim=True))"
      ]
    },
    {
      "cell_type": "markdown",
      "metadata": {},
      "source": [
        "## Network Type 2 (Max Advantage)"
      ]
    },
    {
      "cell_type": "code",
      "execution_count": 265,
      "metadata": {
        "id": "638yBOPI1mE8"
      },
      "outputs": [],
      "source": [
        "class QNetworkType2(nn.Module):\n",
        "\n",
        "  def __init__(self, state_size, action_size, seed):\n",
        "    super(QNetworkType2, self).__init__()\n",
        "    self.seed = torch.manual_seed(seed)\n",
        "\n",
        "    self.layer1 = nn.Linear(state_size, 128)\n",
        "    self.layer2 = nn.Linear(128, 128)\n",
        "\n",
        "    self.value_function = nn.Linear(128, 1)\n",
        "\n",
        "    self.advantage = nn.Linear(128, action_size)\n",
        "\n",
        "  def forward(self, state):\n",
        "\n",
        "    x = f.relu(self.layer2(f.relu(self.layer1(state))))\n",
        "    value_function = self.value_function(x)\n",
        "    advantage = self.advantage(x)\n",
        "\n",
        "    return value_function + (advantage-advantage.max(dim=1, keepdim=True)[0])"
      ]
    },
    {
      "cell_type": "markdown",
      "metadata": {},
      "source": [
        "## Agent"
      ]
    },
    {
      "cell_type": "code",
      "execution_count": 266,
      "metadata": {
        "id": "lHRKWxSk60HU"
      },
      "outputs": [],
      "source": [
        "class Agent():\n",
        "  def __init__(self, state_size, action_size, seed, qnetwork = QNetworkType1):\n",
        "    self.state_size = state_size\n",
        "    self.action_size = action_size\n",
        "    self.seed = random.seed(seed)\n",
        "\n",
        "    self.qnetworkPrimary = qnetwork(state_size, action_size, seed)\n",
        "    self.qnetworkTarget = qnetwork(state_size, action_size, seed)\n",
        "\n",
        "    self.optimizer = optim.Adam(self.qnetworkPrimary.parameters(), lr=LR)\n",
        "\n",
        "    self.memory = ReplayBuffer(action_size, BUFFER_SIZE, BATCH_SIZE, seed)\n",
        "    self.timestep = 0\n",
        "\n",
        "  def step(self, state, action, reward, next_state, done):\n",
        "    self.memory.add(state, action, reward, next_state, done)\n",
        "\n",
        "    self.timestep = (self.timestep + 1) % FREQUENCY\n",
        "    if self.timestep == 0:\n",
        "      if len(self.memory) > BATCH_SIZE:\n",
        "        experiences = self.memory.sample()\n",
        "        self.learn(experiences, GAMMA)\n",
        "\n",
        "  def learn(self, experience, gamma):\n",
        "    states, actions, rewards, next_states, dones = experience\n",
        "\n",
        "    q_nextTarget = self.qnetworkTarget(next_states).detach().max(1)[0].unsqueeze(1)\n",
        "    actions = actions.type(torch.int64)\n",
        "    q_Target = rewards + (gamma*q_nextTarget*(1-dones))\n",
        "    q_Expected = self.qnetworkPrimary(states).gather(1, actions)\n",
        "\n",
        "    loss = f.mse_loss(q_Expected, q_Target)\n",
        "\n",
        "    self.optimizer.zero_grad()\n",
        "    loss.backward()\n",
        "    self.optimizer.step()\n",
        "\n",
        "    self.update(self.qnetworkPrimary, self.qnetworkTarget, TAU)\n",
        "\n",
        "  def update(self, primaryNetwork, targetNetwork, tau):\n",
        "\n",
        "    for target_param, local_param in zip(targetNetwork.parameters(), primaryNetwork.parameters()):\n",
        "      target_param.data.copy_(tau*local_param.data + (1 - tau)*target_param.data)\n",
        "\n",
        "  def move(self, state, eps=0):\n",
        "    state = torch.from_numpy(state).float().unsqueeze(0)\n",
        "    self.qnetworkPrimary.eval()\n",
        "    with torch.no_grad():\n",
        "      action_values = self.qnetworkPrimary(state)\n",
        "    self.qnetworkPrimary.train()\n",
        "\n",
        "    if random.random() > eps:\n",
        "      return np.argmax(action_values.data.numpy())\n",
        "    else:\n",
        "      return random.choice(np.arange(self.action_size))"
      ]
    },
    {
      "cell_type": "markdown",
      "metadata": {},
      "source": [
        "## Dueling DQN "
      ]
    },
    {
      "cell_type": "code",
      "execution_count": 267,
      "metadata": {
        "id": "pvJgsawz62-f"
      },
      "outputs": [],
      "source": [
        "def duelingDQN(agent, episodes = 2000, max_timestep = 1000, ep_start = 1.0, ep_end = 0.001, ep_decay = 0.9975, exp_no = 3):\n",
        "  \n",
        "  scores= []\n",
        "  scores_window = deque(maxlen = 100)\n",
        "  epsilon = ep_start\n",
        "\n",
        "  for episode in range(1, episodes+1):\n",
        "    state = env.reset()\n",
        "    score = 0\n",
        "\n",
        "    for t in range(max_timestep):\n",
        "      action = agent.move(state, epsilon)\n",
        "      next_state, reward, done, _ = env.step(action)\n",
        "      agent.step(state, action, reward, next_state, done)\n",
        "      score+=reward\n",
        "      state = next_state\n",
        "      if done:\n",
        "        break\n",
        "\n",
        "    scores_window.append(score)\n",
        "    scores.append(score)\n",
        "    epsilon = max(ep_end, ep_decay*epsilon)\n",
        "\n",
        "    # print(f'Episode {episode}    Average Score: {np.mean(scores_window)}')\n",
        "    if episode % 100 == 0:\n",
        "      print(f'Episode {episode}    Average Score: {np.mean(scores_window)}')\n",
        "    if np.mean(scores_window) >= env.spec.reward_threshold:\n",
        "      print(f\"Environment solved in {episode} episodes !!!!   Average Score: {np.mean(scores_window)}\")\n",
        "      file_name = 'acrobot_model_weights'+str(exp_no)+'.pth'\n",
        "      torch.save(agent.qnetworkPrimary.state_dict(), file_name)\n",
        "      break\n",
        "  return scores"
      ]
    },
    {
      "cell_type": "markdown",
      "metadata": {},
      "source": [
        "## Multiple Seed "
      ]
    },
    {
      "cell_type": "code",
      "execution_count": 268,
      "metadata": {},
      "outputs": [],
      "source": [
        "def multiple_experiments(agent, num_seeds=5, exp_no = 1):\n",
        "    all_scores = []\n",
        "    min_length = float('inf')\n",
        "\n",
        "    for seed in range(num_seeds):\n",
        "        print(f\"\\nTraining with seed {seed+1}\\n\")\n",
        "        env.seed(seed)\n",
        "        scores = duelingDQN(agent=agent, exp_no = exp_no)\n",
        "        all_scores.append(scores)\n",
        "\n",
        "        min_length = min(min_length, len(scores))\n",
        "    all_scores_dim = [score[:min_length] for score in all_scores]\n",
        "    return all_scores_dim"
      ]
    },
    {
      "cell_type": "markdown",
      "metadata": {},
      "source": [
        "## Experiment 1: Acrobot - Type 1 "
      ]
    },
    {
      "cell_type": "code",
      "execution_count": 269,
      "metadata": {
        "colab": {
          "base_uri": "https://localhost:8080/"
        },
        "id": "w-YIhTjG6Xe9",
        "outputId": "44be7fba-ddb8-462c-e0a0-e9d96e43b07e"
      },
      "outputs": [
        {
          "name": "stdout",
          "output_type": "stream",
          "text": [
            "######## Experiment 1: Dueling DQN Type 1 ############\n",
            "\n",
            "######## Environment 1: Acrobot ############\n",
            " \n",
            "Observation Space: Box([ -1.        -1.        -1.        -1.       -12.566371 -28.274334], [ 1.        1.        1.        1.       12.566371 28.274334], (6,), float32)\n",
            "\n",
            "Observation Space Shape: (6,)\n",
            "\n",
            "Action Space: Discrete(3)\n",
            "\n",
            "Number of Actions: 3\n",
            "\n",
            "Reward Threshold: -100.0\n"
          ]
        }
      ],
      "source": [
        "print(\"######## Experiment 1: Dueling DQN Type 1 ############\\n\")\n",
        "print(\"######## Environment 1: Acrobot ############\")\n",
        "print(\" \")\n",
        "env = gym.make('Acrobot-v1')\n",
        "env.seed(0)\n",
        "\n",
        "print(f\"Observation Space: {env.observation_space}\\n\")\n",
        "print(f\"Observation Space Shape: {env.observation_space.shape}\\n\")\n",
        "print(f\"Action Space: {env.action_space}\\n\")\n",
        "print(f\"Number of Actions: {env.action_space.n}\\n\")\n",
        "print(f\"Reward Threshold: {env.spec.reward_threshold}\")\n",
        "\n",
        "acrobot_agent_type1 = Agent(state_size=env.observation_space.shape[0], action_size=env.action_space.n, seed=0, qnetwork=QNetworkType1)"
      ]
    },
    {
      "cell_type": "markdown",
      "metadata": {},
      "source": [
        "## Training Over 5 Random Seeds"
      ]
    },
    {
      "cell_type": "code",
      "execution_count": 270,
      "metadata": {
        "colab": {
          "base_uri": "https://localhost:8080/"
        },
        "id": "YopQjvz3MSlP",
        "outputId": "9e41cc54-2575-45b4-c41c-173444e93151"
      },
      "outputs": [
        {
          "name": "stdout",
          "output_type": "stream",
          "text": [
            "\n",
            "Training with seed 1\n",
            "\n"
          ]
        },
        {
          "name": "stdout",
          "output_type": "stream",
          "text": [
            "Episode 100    Average Score: -493.67\n",
            "Episode 200    Average Score: -404.27\n",
            "Episode 300    Average Score: -260.75\n",
            "Episode 400    Average Score: -180.98\n",
            "Episode 500    Average Score: -168.96\n",
            "Episode 600    Average Score: -147.27\n",
            "Episode 700    Average Score: -138.95\n",
            "Episode 800    Average Score: -122.58\n",
            "Episode 900    Average Score: -124.28\n",
            "Episode 1000    Average Score: -110.15\n",
            "Episode 1100    Average Score: -108.25\n",
            "Episode 1200    Average Score: -100.96\n",
            "Episode 1300    Average Score: -105.9\n",
            "Environment solved in 1378 episodes !!!!   Average Score: -99.62\n",
            "\n",
            "Training with seed 2\n",
            "\n",
            "Episode 100    Average Score: -406.09\n",
            "Episode 200    Average Score: -232.35\n",
            "Episode 300    Average Score: -165.72\n",
            "Episode 400    Average Score: -133.29\n",
            "Episode 500    Average Score: -114.93\n",
            "Episode 600    Average Score: -104.16\n",
            "Environment solved in 645 episodes !!!!   Average Score: -99.82\n",
            "\n",
            "Training with seed 3\n",
            "\n",
            "Episode 100    Average Score: -416.6\n",
            "Episode 200    Average Score: -220.27\n",
            "Episode 300    Average Score: -155.85\n",
            "Episode 400    Average Score: -126.47\n",
            "Episode 500    Average Score: -111.69\n",
            "Episode 600    Average Score: -105.04\n",
            "Environment solved in 698 episodes !!!!   Average Score: -99.93\n",
            "\n",
            "Training with seed 4\n",
            "\n",
            "Episode 100    Average Score: -426.16\n",
            "Episode 200    Average Score: -222.26\n",
            "Episode 300    Average Score: -155.29\n",
            "Episode 400    Average Score: -131.67\n",
            "Episode 500    Average Score: -114.42\n",
            "Episode 600    Average Score: -104.92\n",
            "Environment solved in 665 episodes !!!!   Average Score: -99.96\n",
            "\n",
            "Training with seed 5\n",
            "\n",
            "Episode 100    Average Score: -411.15\n",
            "Episode 200    Average Score: -232.24\n",
            "Episode 300    Average Score: -156.58\n",
            "Episode 400    Average Score: -129.26\n",
            "Episode 500    Average Score: -113.72\n",
            "Episode 600    Average Score: -100.77\n",
            "Environment solved in 615 episodes !!!!   Average Score: -99.65\n"
          ]
        }
      ],
      "source": [
        "scores_experiment1 = multiple_experiments(agent=acrobot_agent_type1, exp_no=1)"
      ]
    },
    {
      "cell_type": "markdown",
      "metadata": {},
      "source": [
        "## Training Once (Save Model)"
      ]
    },
    {
      "cell_type": "code",
      "execution_count": 271,
      "metadata": {
        "colab": {
          "base_uri": "https://localhost:8080/"
        },
        "id": "rguF9mue9myO",
        "outputId": "dde9aded-563d-483e-c5f2-a19c49927f39"
      },
      "outputs": [
        {
          "name": "stdout",
          "output_type": "stream",
          "text": [
            "Episode 100    Average Score: -419.67\n",
            "Episode 200    Average Score: -226.41\n",
            "Episode 300    Average Score: -157.42\n",
            "Episode 400    Average Score: -129.95\n",
            "Episode 500    Average Score: -111.47\n",
            "Episode 600    Average Score: -103.61\n",
            "Environment solved in 667 episodes !!!!   Average Score: -99.61\n"
          ]
        }
      ],
      "source": [
        "scores = duelingDQN(agent=acrobot_agent_type1, exp_no = 1)"
      ]
    },
    {
      "cell_type": "markdown",
      "metadata": {},
      "source": [
        "## Test Model (Video)"
      ]
    },
    {
      "cell_type": "code",
      "execution_count": null,
      "metadata": {
        "colab": {
          "base_uri": "https://localhost:8080/"
        },
        "id": "n77ILh0R6hmY",
        "outputId": "1314a030-38ed-4015-f7b0-f97bdf9ad975"
      },
      "outputs": [],
      "source": [
        "acrobot_agent_type1.qnetworkPrimary.load_state_dict(torch.load('acrobot_model_weights1.pth'))\n",
        "\n",
        "frames = []\n",
        "for _ in range(1):\n",
        "    state = env.reset()\n",
        "    for _ in range(500):\n",
        "        action = acrobot_agent_type1.move(state)\n",
        "        state, _, done, _ = env.step(action)\n",
        "        frames.append(env.render(mode='rgb_array'))\n",
        "        if done:\n",
        "            break\n",
        "\n",
        "image_dir = './acrobot_images_experiment1'\n",
        "os.makedirs(image_dir, exist_ok=True)\n",
        "for i, frame in enumerate(frames):\n",
        "    image_path = os.path.join(image_dir, f'frame_{i}.png')\n",
        "    plt.imsave(image_path, frame)\n",
        "\n",
        "import subprocess\n",
        "video_path = './acrobot_video_experiment1.mp4'\n",
        "subprocess.call(['ffmpeg', '-framerate', '25', '-i', os.path.join(image_dir, 'frame_%d.png'), '-c:v', 'libx264', '-pix_fmt', 'yuv420p', video_path])"
      ]
    },
    {
      "cell_type": "markdown",
      "metadata": {},
      "source": [
        "## Experiment 2: Acrobot - Type 2"
      ]
    },
    {
      "cell_type": "code",
      "execution_count": 273,
      "metadata": {
        "colab": {
          "base_uri": "https://localhost:8080/"
        },
        "id": "--zLtYWu9blS",
        "outputId": "1ebd08a5-4f65-4e91-bf64-d47ce2aa0f6f"
      },
      "outputs": [
        {
          "name": "stdout",
          "output_type": "stream",
          "text": [
            "######## Experiment 2: Dueling DQN Type 2 ############\n",
            "\n",
            "######## Environment 1: Acrobot ############\n",
            " \n",
            "Observation Space: Box([ -1.        -1.        -1.        -1.       -12.566371 -28.274334], [ 1.        1.        1.        1.       12.566371 28.274334], (6,), float32)\n",
            "\n",
            "Observation Space Shape: (6,)\n",
            "\n",
            "Action Space: Discrete(3)\n",
            "\n",
            "Number of Actions: 3\n",
            "\n",
            "Reward Threshold: -100.0\n"
          ]
        }
      ],
      "source": [
        "print(\"######## Experiment 2: Dueling DQN Type 2 ############\\n\")\n",
        "print(\"######## Environment 1: Acrobot ############\")\n",
        "print(\" \")\n",
        "env = gym.make('Acrobot-v1')\n",
        "env.seed(0)\n",
        "\n",
        "print(f\"Observation Space: {env.observation_space}\\n\")\n",
        "print(f\"Observation Space Shape: {env.observation_space.shape}\\n\")\n",
        "print(f\"Action Space: {env.action_space}\\n\")\n",
        "print(f\"Number of Actions: {env.action_space.n}\\n\")\n",
        "print(f\"Reward Threshold: {env.spec.reward_threshold}\")\n",
        "\n",
        "acrobot_agent_type2 = Agent(state_size=env.observation_space.shape[0], action_size=env.action_space.n, seed=0, qnetwork=QNetworkType2)"
      ]
    },
    {
      "cell_type": "markdown",
      "metadata": {},
      "source": [
        "## Training Over 5 Random Seeds"
      ]
    },
    {
      "cell_type": "code",
      "execution_count": 274,
      "metadata": {
        "colab": {
          "base_uri": "https://localhost:8080/"
        },
        "id": "4lBtZpBw9uG6",
        "outputId": "7b085fac-74cb-471b-e9dd-9498ae351452"
      },
      "outputs": [
        {
          "name": "stdout",
          "output_type": "stream",
          "text": [
            "\n",
            "Training with seed 1\n",
            "\n"
          ]
        },
        {
          "name": "stdout",
          "output_type": "stream",
          "text": [
            "Episode 100    Average Score: -497.79\n",
            "Episode 200    Average Score: -464.47\n",
            "Episode 300    Average Score: -321.04\n",
            "Episode 400    Average Score: -227.84\n",
            "Episode 500    Average Score: -233.02\n",
            "Episode 600    Average Score: -185.83\n",
            "Episode 700    Average Score: -169.51\n",
            "Episode 800    Average Score: -162.3\n",
            "Episode 900    Average Score: -136.42\n",
            "Episode 1000    Average Score: -120.7\n",
            "Episode 1100    Average Score: -120.1\n",
            "Episode 1200    Average Score: -107.16\n",
            "Episode 1300    Average Score: -104.7\n",
            "Environment solved in 1375 episodes !!!!   Average Score: -99.77\n",
            "\n",
            "Training with seed 2\n",
            "\n",
            "Episode 100    Average Score: -429.97\n",
            "Episode 200    Average Score: -235.1\n",
            "Episode 300    Average Score: -161.73\n",
            "Episode 400    Average Score: -137.56\n",
            "Episode 500    Average Score: -114.29\n",
            "Episode 600    Average Score: -107.74\n",
            "Environment solved in 694 episodes !!!!   Average Score: -98.88\n",
            "\n",
            "Training with seed 3\n",
            "\n",
            "Episode 100    Average Score: -416.25\n",
            "Episode 200    Average Score: -229.62\n",
            "Episode 300    Average Score: -156.78\n",
            "Episode 400    Average Score: -129.95\n",
            "Episode 500    Average Score: -116.77\n",
            "Episode 600    Average Score: -105.24\n",
            "Environment solved in 649 episodes !!!!   Average Score: -99.93\n",
            "\n",
            "Training with seed 4\n",
            "\n",
            "Episode 100    Average Score: -415.81\n",
            "Episode 200    Average Score: -223.82\n",
            "Episode 300    Average Score: -161.14\n",
            "Episode 400    Average Score: -136.82\n",
            "Episode 500    Average Score: -110.87\n",
            "Episode 600    Average Score: -106.37\n",
            "Environment solved in 656 episodes !!!!   Average Score: -99.88\n",
            "\n",
            "Training with seed 5\n",
            "\n",
            "Episode 100    Average Score: -424.24\n",
            "Episode 200    Average Score: -223.01\n",
            "Episode 300    Average Score: -157.38\n",
            "Episode 400    Average Score: -132.57\n",
            "Episode 500    Average Score: -111.82\n",
            "Episode 600    Average Score: -101.99\n",
            "Environment solved in 668 episodes !!!!   Average Score: -99.82\n"
          ]
        }
      ],
      "source": [
        "scores_experiment2 = multiple_experiments(agent=acrobot_agent_type2, exp_no=2)"
      ]
    },
    {
      "cell_type": "markdown",
      "metadata": {},
      "source": [
        "## Training Once (Save Model)"
      ]
    },
    {
      "cell_type": "code",
      "execution_count": 275,
      "metadata": {
        "colab": {
          "base_uri": "https://localhost:8080/"
        },
        "id": "gXSOC6fZ9uLe",
        "outputId": "0ebec978-7df7-41c5-d11e-9030fc499930"
      },
      "outputs": [
        {
          "name": "stdout",
          "output_type": "stream",
          "text": [
            "Episode 100    Average Score: -418.28\n",
            "Episode 200    Average Score: -229.65\n",
            "Episode 300    Average Score: -155.23\n",
            "Episode 400    Average Score: -127.96\n",
            "Episode 500    Average Score: -111.87\n",
            "Environment solved in 595 episodes !!!!   Average Score: -99.55\n"
          ]
        }
      ],
      "source": [
        "scores = duelingDQN(agent=acrobot_agent_type2, exp_no = 2)"
      ]
    },
    {
      "cell_type": "markdown",
      "metadata": {},
      "source": [
        "## Testing Model (Video)"
      ]
    },
    {
      "cell_type": "code",
      "execution_count": null,
      "metadata": {
        "colab": {
          "base_uri": "https://localhost:8080/"
        },
        "id": "hr43K26-9yMe",
        "outputId": "536f6ac0-97a8-406c-9d7c-ca16b7883651"
      },
      "outputs": [],
      "source": [
        "acrobot_agent_type2.qnetworkPrimary.load_state_dict(torch.load('acrobot_model_weights2.pth'))\n",
        "\n",
        "frames = []\n",
        "for _ in range(1):\n",
        "    state = env.reset()\n",
        "    for _ in range(500):\n",
        "        action = acrobot_agent_type2.move(state)\n",
        "        state, _, done, _ = env.step(action)\n",
        "        frames.append(env.render(mode='rgb_array'))\n",
        "        if done:\n",
        "            break\n",
        "\n",
        "image_dir = './acrobot_images_experiment2'\n",
        "os.makedirs(image_dir, exist_ok=True)\n",
        "for i, frame in enumerate(frames):\n",
        "    image_path = os.path.join(image_dir, f'frame_{i}.png')\n",
        "    plt.imsave(image_path, frame)\n",
        "\n",
        "import subprocess\n",
        "video_path = './acrobot_video_experiment2.mp4'\n",
        "subprocess.call(['ffmpeg', '-framerate', '25', '-i', os.path.join(image_dir, 'frame_%d.png'), '-c:v', 'libx264', '-pix_fmt', 'yuv420p', video_path])"
      ]
    },
    {
      "cell_type": "markdown",
      "metadata": {},
      "source": [
        "## Plot for Mean and Variance (Type 1 vs Type 2)"
      ]
    },
    {
      "cell_type": "code",
      "execution_count": 293,
      "metadata": {},
      "outputs": [
        {
          "data": {
            "image/png": "[encoded data removed]",
            "text/plain": [
              "<Figure size 640x480 with 1 Axes>"
            ]
          },
          "metadata": {},
          "output_type": "display_data"
        }
      ],
      "source": [
        "window_size = 25\n",
        "scores1, scores2 = [], []\n",
        "\n",
        "for i in range(5):\n",
        "    scores1.append(np.convolve(scores_experiment1[i], np.ones(window_size)/window_size, mode=\"valid\"))\n",
        "    scores2.append(np.convolve(scores_experiment2[i], np.ones(window_size)/window_size, mode=\"valid\"))\n",
        "\n",
        "mean_scores_exp1, mean_scores_exp2 = np.mean(scores1, axis=0), np.mean(scores2, axis=0)\n",
        "std_scores_exp1, std_scores_exp2 = np.std(scores1, axis=0), np.std(scores2, axis=0)\n",
        "\n",
        "sns.lineplot(x=range(len(mean_scores_exp1)), y=mean_scores_exp1, linewidth=1, label='Type 1', color=\"red\")\n",
        "sns.lineplot(x=range(len(mean_scores_exp2)), y=mean_scores_exp2, linewidth=1, label='Type 2', color=\"skyblue\")\n",
        "\n",
        "plt.fill_between(\n",
        "    x=range(len(mean_scores_exp1)),\n",
        "    y1=mean_scores_exp1 - std_scores_exp1[0:len(mean_scores_exp1)],\n",
        "    y2=mean_scores_exp1 + std_scores_exp1[0:len(mean_scores_exp1)],\n",
        "    alpha=0.2,\n",
        "    color='red'\n",
        ")\n",
        "plt.fill_between(\n",
        "    x=range(len(mean_scores_exp2)),\n",
        "    y1=mean_scores_exp2 - std_scores_exp2[0:len(mean_scores_exp2)],\n",
        "    y2=mean_scores_exp2 + std_scores_exp2[0:len(mean_scores_exp2)],\n",
        "    alpha=0.2,\n",
        "    color='skyblue'\n",
        ")\n",
        "\n",
        "plt.xlabel('Episode Number')\n",
        "plt.ylabel('Episodic Return')\n",
        "plt.title('Dueling DQN (Acrobot)')\n",
        "plt.legend()\n",
        "plt.grid(False)\n",
        "plt.show()\n"
      ]
    }
  ],
  "metadata": {
    "colab": {
      "provenance": []
    },
    "kernelspec": {
      "display_name": "Python 3",
      "name": "python3"
    },
    "language_info": {
      "codemirror_mode": {
        "name": "ipython",
        "version": 3
      },
      "file_extension": ".py",
      "mimetype": "text/x-python",
      "name": "python",
      "nbconvert_exporter": "python",
      "pygments_lexer": "ipython3",
      "version": "3.8.10"
    }
  },
  "nbformat": 4,
  "nbformat_minor": 0
}
