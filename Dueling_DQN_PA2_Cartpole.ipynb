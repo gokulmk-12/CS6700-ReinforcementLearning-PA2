{
  "cells": [
    {
      "cell_type": "markdown",
      "metadata": {},
      "source": [
        "## Installing Necessary Packages"
      ]
    },
    {
      "cell_type": "code",
      "execution_count": 43,
      "metadata": {
        "id": "CfZC3U4R3vvI"
      },
      "outputs": [],
      "source": [
        "!apt-get install -y xvfb python-opengl ffmpeg > /dev/null 2>&1\n",
        "!pip install -U colabgymrender &> /dev/null\n",
        "!pip install imageio==2.4.1 &> /dev/null\n",
        "!pip install --upgrade AutoROM &> /dev/null\n",
        "!AutoROM --accept-license &> /dev/null\n",
        "!pip install gym[atari,accept-rom-license] &> /dev/null"
      ]
    },
    {
      "cell_type": "markdown",
      "metadata": {},
      "source": [
        "## Importing Necessary Packages"
      ]
    },
    {
      "cell_type": "code",
      "execution_count": 44,
      "metadata": {
        "id": "r0NjXyr9whAf"
      },
      "outputs": [],
      "source": [
        "import gym\n",
        "import os\n",
        "import torch\n",
        "import random\n",
        "import seaborn as sns\n",
        "import torch.nn as nn\n",
        "import torch.optim as optim\n",
        "import matplotlib.pyplot as plt\n",
        "import numpy as np\n",
        "import torch.nn.functional as f\n",
        "from collections import namedtuple, deque\n",
        "%matplotlib inline\n",
        "from IPython import display as ipythondisplay\n",
        "import warnings\n",
        "warnings.filterwarnings(\"ignore\", category=DeprecationWarning)"
      ]
    },
    {
      "cell_type": "markdown",
      "metadata": {},
      "source": [
        "## Hyperparameters"
      ]
    },
    {
      "cell_type": "code",
      "execution_count": 45,
      "metadata": {
        "id": "nztSfn4pxEAO"
      },
      "outputs": [],
      "source": [
        "BATCH_SIZE = 128\n",
        "BUFFER_SIZE = 1000000\n",
        "GAMMA = 0.99\n",
        "LR = 0.00025\n",
        "FREQUENCY = 5\n",
        "TAU = 0.005"
      ]
    },
    {
      "cell_type": "markdown",
      "metadata": {},
      "source": [
        "## Replay Buffer (Store <state, action, reward, next_state, done>)"
      ]
    },
    {
      "cell_type": "code",
      "execution_count": 46,
      "metadata": {
        "id": "vTFHRt_O1Nx0"
      },
      "outputs": [],
      "source": [
        "class ReplayBuffer:\n",
        "\n",
        "  def __init__(self, action_size, buffer_size, batch_size, seed):\n",
        "    self.action_size = action_size\n",
        "    self.memory = deque(maxlen=buffer_size)\n",
        "    self.batch_size = batch_size\n",
        "\n",
        "    self.experience = namedtuple(\"Experience\", field_names=[\"state\", \"action\", \"reward\", \"next_state\", \"done\"])\n",
        "    self.seed = random.seed(seed)\n",
        "\n",
        "  def add(self, state, action, reward, next_state, done):\n",
        "    self.memory.append(self.experience(state, action, reward, next_state, done))\n",
        "\n",
        "  def sample(self):\n",
        "    experience = random.sample(self.memory, k=self.batch_size)\n",
        "\n",
        "    states = torch.from_numpy(np.vstack([i.state for i in experience if i is not None])).float()\n",
        "    actions = torch.from_numpy(np.vstack([i.action for i in experience if i is not None])).float()\n",
        "    rewards = torch.from_numpy(np.vstack([i.reward for i in experience if i is not None])).float()\n",
        "    next_states = torch.from_numpy(np.vstack([i.next_state for i in experience if i is not None])).float()\n",
        "    dones = torch.from_numpy(np.vstack([i.done for i in experience if i is not None]).astype(np.uint8)).float()\n",
        "\n",
        "    return (states, actions, rewards, next_states, dones)\n",
        "\n",
        "  def __len__(self):\n",
        "    return len(self.memory)\n"
      ]
    },
    {
      "cell_type": "markdown",
      "metadata": {},
      "source": [
        "## Newtork Type 1 (Mean Advantage)"
      ]
    },
    {
      "cell_type": "code",
      "execution_count": 54,
      "metadata": {
        "id": "MxEogkmGzbZA"
      },
      "outputs": [],
      "source": [
        "class QNetworkType1(nn.Module):\n",
        "\n",
        "  def __init__(self, state_size, action_size, seed):\n",
        "    super(QNetworkType1, self).__init__()\n",
        "    self.seed = torch.manual_seed(seed)\n",
        "\n",
        "    self.layer1 = nn.Linear(state_size, 128)\n",
        "    self.layer2 = nn.Linear(128, 128)\n",
        "\n",
        "    self.value_function = nn.Linear(128, 1)\n",
        "\n",
        "    self.advantage = nn.Linear(128, action_size)\n",
        "\n",
        "  def forward(self, state):\n",
        "\n",
        "    x = f.relu(self.layer2(f.relu(self.layer1(state))))\n",
        "    # x = f.relu(self.layer1(state))\n",
        "    value_function = self.value_function(x)\n",
        "    advantage = self.advantage(x)\n",
        "\n",
        "    return value_function + (advantage-advantage.mean(dim=1, keepdim=True))"
      ]
    },
    {
      "cell_type": "markdown",
      "metadata": {},
      "source": [
        "## Network Type 2 (Max Advantage)"
      ]
    },
    {
      "cell_type": "code",
      "execution_count": 55,
      "metadata": {
        "id": "638yBOPI1mE8"
      },
      "outputs": [],
      "source": [
        "class QNetworkType2(nn.Module):\n",
        "\n",
        "  def __init__(self, state_size, action_size, seed):\n",
        "    super(QNetworkType2, self).__init__()\n",
        "    self.seed = torch.manual_seed(seed)\n",
        "\n",
        "    self.layer1 = nn.Linear(state_size, 128)\n",
        "    self.layer2 = nn.Linear(128, 128)\n",
        "\n",
        "    self.value_function = nn.Linear(128, 1)\n",
        "\n",
        "    self.advantage = nn.Linear(128, action_size)\n",
        "\n",
        "  def forward(self, state):\n",
        "\n",
        "    x = f.relu(self.layer2(f.relu(self.layer1(state))))\n",
        "    # x = f.relu(self.layer1(state))\n",
        "    value_function = self.value_function(x)\n",
        "    advantage = self.advantage(x)\n",
        "\n",
        "    return value_function + (advantage-advantage.max(dim=1, keepdim=True)[0])"
      ]
    },
    {
      "cell_type": "markdown",
      "metadata": {},
      "source": [
        "## Agent"
      ]
    },
    {
      "cell_type": "code",
      "execution_count": 56,
      "metadata": {
        "id": "lHRKWxSk60HU"
      },
      "outputs": [],
      "source": [
        "class Agent():\n",
        "  def __init__(self, state_size, action_size, seed, qnetwork = QNetworkType1):\n",
        "    self.state_size = state_size\n",
        "    self.action_size = action_size\n",
        "    self.seed = random.seed(seed)\n",
        "\n",
        "    self.qnetworkPrimary = qnetwork(state_size, action_size, seed)\n",
        "    self.qnetworkTarget = qnetwork(state_size, action_size, seed)\n",
        "\n",
        "    self.optimizer = optim.Adam(self.qnetworkPrimary.parameters(), lr=LR)\n",
        "\n",
        "    self.memory = ReplayBuffer(action_size, BUFFER_SIZE, BATCH_SIZE, seed)\n",
        "    self.timestep = 0\n",
        "\n",
        "  def step(self, state, action, reward, next_state, done):\n",
        "    self.memory.add(state, action, reward, next_state, done)\n",
        "\n",
        "    self.timestep = (self.timestep + 1) % FREQUENCY\n",
        "    if self.timestep == 0:\n",
        "      if len(self.memory) > BATCH_SIZE:\n",
        "        experiences = self.memory.sample()\n",
        "        self.learn(experiences, GAMMA)\n",
        "\n",
        "  def learn(self, experience, gamma):\n",
        "    states, actions, rewards, next_states, dones = experience\n",
        "\n",
        "    q_nextTarget = self.qnetworkTarget(next_states).detach().max(1)[0].unsqueeze(1)\n",
        "    actions = actions.type(torch.int64)\n",
        "    q_Target = rewards + (gamma*q_nextTarget*(1-dones))\n",
        "    q_Expected = self.qnetworkPrimary(states).gather(1, actions)\n",
        "\n",
        "    loss = f.mse_loss(q_Expected, q_Target)\n",
        "\n",
        "    self.optimizer.zero_grad()\n",
        "    loss.backward()\n",
        "    self.optimizer.step()\n",
        "\n",
        "    self.update(self.qnetworkPrimary, self.qnetworkTarget, TAU)\n",
        "\n",
        "  def update(self, primaryNetwork, targetNetwork, tau):\n",
        "\n",
        "    for target_param, local_param in zip(targetNetwork.parameters(), primaryNetwork.parameters()):\n",
        "      target_param.data.copy_(tau*local_param.data + (1 - tau)*target_param.data)\n",
        "\n",
        "  def move(self, state, eps=0):\n",
        "    state = torch.from_numpy(state).float().unsqueeze(0)\n",
        "    self.qnetworkPrimary.eval()\n",
        "    with torch.no_grad():\n",
        "      action_values = self.qnetworkPrimary(state)\n",
        "    self.qnetworkPrimary.train()\n",
        "\n",
        "    if random.random() > eps:\n",
        "      return np.argmax(action_values.data.numpy())\n",
        "    else:\n",
        "      return random.choice(np.arange(self.action_size))"
      ]
    },
    {
      "cell_type": "markdown",
      "metadata": {},
      "source": [
        "## Dueling DQN "
      ]
    },
    {
      "cell_type": "code",
      "execution_count": 57,
      "metadata": {
        "id": "pvJgsawz62-f"
      },
      "outputs": [],
      "source": [
        "def duelingDQN(agent, episodes = 2000, max_timestep = 1000, ep_start = 1.0, ep_end = 0.001, ep_decay = 0.9975, exp_no = 3):\n",
        "  scores= []\n",
        "  scores_window = deque(maxlen = 100)\n",
        "  epsilon = ep_start\n",
        "\n",
        "  for episode in range(1, episodes+1):\n",
        "    state = env.reset()\n",
        "    score = 0\n",
        "\n",
        "    for t in range(max_timestep):\n",
        "      action = agent.move(state, epsilon)\n",
        "      next_state, reward, done, _ = env.step(action)\n",
        "      agent.step(state, action, reward, next_state, done)\n",
        "      score+=reward\n",
        "      state = next_state\n",
        "      if done:\n",
        "        break\n",
        "\n",
        "    scores_window.append(score)\n",
        "    scores.append(score)\n",
        "    epsilon = max(ep_end, ep_decay*epsilon)\n",
        "\n",
        "    # print(f'Episode {episode}    Average Score: {np.mean(scores_window)}')\n",
        "    if episode % 100 == 0:\n",
        "      print(f'Episode {episode}    Average Score: {np.mean(scores_window)}')\n",
        "    if np.mean(scores_window) >= env.spec.reward_threshold:\n",
        "      print(f\"Environment solved in {episode} episodes !!!!   Average Score: {np.mean(scores_window)}\")\n",
        "      file_name = 'cartpole_model_weights'+str(exp_no)+'.pth'\n",
        "      torch.save(agent.qnetworkPrimary.state_dict(), file_name)\n",
        "      break\n",
        "\n",
        "  return scores"
      ]
    },
    {
      "cell_type": "markdown",
      "metadata": {},
      "source": [
        "## Multiple Seed "
      ]
    },
    {
      "cell_type": "code",
      "execution_count": 58,
      "metadata": {},
      "outputs": [],
      "source": [
        "def multiple_experiments(agent, num_seeds=5, exp_no = 1):\n",
        "    all_scores = []\n",
        "    min_length = float('inf')\n",
        "\n",
        "    for seed in range(num_seeds):\n",
        "        print(f\"\\nTraining with seed {seed+1}\\n\")\n",
        "        env.seed(seed)\n",
        "        scores = duelingDQN(agent=agent, exp_no = exp_no)\n",
        "        all_scores.append(scores)\n",
        "\n",
        "        min_length = min(min_length, len(scores))\n",
        "    # Calculate the average scores across all seeds for each episode\n",
        "\n",
        "    all_scores_dim = [score[:min_length] for score in all_scores]\n",
        "    return all_scores_dim"
      ]
    },
    {
      "cell_type": "markdown",
      "metadata": {},
      "source": [
        "## Experiment 3: Cartpole - Type 1 "
      ]
    },
    {
      "cell_type": "code",
      "execution_count": 59,
      "metadata": {
        "colab": {
          "base_uri": "https://localhost:8080/"
        },
        "id": "w-YIhTjG6Xe9",
        "outputId": "44be7fba-ddb8-462c-e0a0-e9d96e43b07e"
      },
      "outputs": [
        {
          "name": "stdout",
          "output_type": "stream",
          "text": [
            "######## Experiment 3: Dueling DQN Type 1 ############\n",
            "\n",
            "######## Environment 2: Cartpole ############\n",
            " \n",
            "Observation Space: Box([-4.8000002e+00 -3.4028235e+38 -4.1887903e-01 -3.4028235e+38], [4.8000002e+00 3.4028235e+38 4.1887903e-01 3.4028235e+38], (4,), float32)\n",
            "\n",
            "Observation Space Shape: (4,)\n",
            "\n",
            "Action Space: Discrete(2)\n",
            "\n",
            "Number of Actions: 2\n",
            "\n",
            "Reward Threshold: 475.0\n"
          ]
        }
      ],
      "source": [
        "print(\"######## Experiment 3: Dueling DQN Type 1 ############\\n\")\n",
        "print(\"######## Environment 2: Cartpole ############\")\n",
        "print(\" \")\n",
        "env = gym.make('CartPole-v1')\n",
        "env.seed(0)\n",
        "\n",
        "print(f\"Observation Space: {env.observation_space}\\n\")\n",
        "print(f\"Observation Space Shape: {env.observation_space.shape}\\n\")\n",
        "print(f\"Action Space: {env.action_space}\\n\")\n",
        "print(f\"Number of Actions: {env.action_space.n}\\n\")\n",
        "print(f\"Reward Threshold: {env.spec.reward_threshold}\")\n",
        "\n",
        "cartpole_agent_type1 = Agent(state_size=env.observation_space.shape[0], action_size=env.action_space.n, seed=0, qnetwork=QNetworkType1)"
      ]
    },
    {
      "cell_type": "markdown",
      "metadata": {},
      "source": [
        "## Training Over 5 Random Seeds"
      ]
    },
    {
      "cell_type": "code",
      "execution_count": 60,
      "metadata": {
        "colab": {
          "base_uri": "https://localhost:8080/"
        },
        "id": "YopQjvz3MSlP",
        "outputId": "9e41cc54-2575-45b4-c41c-173444e93151"
      },
      "outputs": [
        {
          "name": "stdout",
          "output_type": "stream",
          "text": [
            "\n",
            "Training with seed 1\n",
            "\n",
            "Episode 100    Average Score: 20.73\n"
          ]
        },
        {
          "name": "stdout",
          "output_type": "stream",
          "text": [
            "Episode 200    Average Score: 19.05\n",
            "Episode 300    Average Score: 89.67\n",
            "Episode 400    Average Score: 197.13\n",
            "Episode 500    Average Score: 232.97\n",
            "Episode 600    Average Score: 269.87\n",
            "Episode 700    Average Score: 271.94\n",
            "Episode 800    Average Score: 280.04\n",
            "Episode 900    Average Score: 319.06\n",
            "Episode 1000    Average Score: 344.89\n",
            "Episode 1100    Average Score: 416.95\n",
            "Episode 1200    Average Score: 370.3\n",
            "Episode 1300    Average Score: 334.24\n",
            "Episode 1400    Average Score: 311.48\n",
            "Episode 1500    Average Score: 303.58\n",
            "Episode 1600    Average Score: 364.03\n",
            "Environment solved in 1662 episodes !!!!   Average Score: 476.76\n",
            "\n",
            "Training with seed 2\n",
            "\n",
            "Episode 100    Average Score: 27.96\n",
            "Episode 200    Average Score: 46.02\n",
            "Episode 300    Average Score: 99.94\n",
            "Episode 400    Average Score: 187.63\n",
            "Episode 500    Average Score: 343.79\n",
            "Episode 600    Average Score: 387.64\n",
            "Episode 700    Average Score: 390.24\n",
            "Episode 800    Average Score: 354.41\n",
            "Episode 900    Average Score: 448.6\n",
            "Environment solved in 963 episodes !!!!   Average Score: 475.96\n",
            "\n",
            "Training with seed 3\n",
            "\n",
            "Episode 100    Average Score: 27.11\n",
            "Episode 200    Average Score: 44.71\n",
            "Episode 300    Average Score: 60.65\n",
            "Episode 400    Average Score: 129.32\n",
            "Episode 500    Average Score: 281.61\n",
            "Episode 600    Average Score: 359.3\n",
            "Episode 700    Average Score: 407.79\n",
            "Episode 800    Average Score: 472.2\n",
            "Environment solved in 827 episodes !!!!   Average Score: 478.74\n",
            "\n",
            "Training with seed 4\n",
            "\n",
            "Episode 100    Average Score: 26.8\n",
            "Episode 200    Average Score: 44.12\n",
            "Episode 300    Average Score: 95.6\n",
            "Episode 400    Average Score: 175.09\n",
            "Episode 500    Average Score: 335.48\n",
            "Episode 600    Average Score: 372.88\n",
            "Episode 700    Average Score: 361.87\n",
            "Episode 800    Average Score: 407.29\n",
            "Episode 900    Average Score: 468.58\n",
            "Environment solved in 975 episodes !!!!   Average Score: 476.28\n",
            "\n",
            "Training with seed 5\n",
            "\n",
            "Episode 100    Average Score: 25.36\n",
            "Episode 200    Average Score: 37.83\n",
            "Episode 300    Average Score: 75.6\n",
            "Episode 400    Average Score: 133.63\n",
            "Episode 500    Average Score: 166.04\n",
            "Episode 600    Average Score: 265.47\n",
            "Episode 700    Average Score: 329.49\n",
            "Episode 800    Average Score: 351.11\n",
            "Episode 900    Average Score: 407.78\n",
            "Episode 1000    Average Score: 425.12\n",
            "Episode 1100    Average Score: 439.89\n",
            "Episode 1200    Average Score: 465.29\n",
            "Environment solved in 1219 episodes !!!!   Average Score: 475.68\n"
          ]
        }
      ],
      "source": [
        "scores_experiment3 = multiple_experiments(agent=cartpole_agent_type1, exp_no=3)"
      ]
    },
    {
      "cell_type": "markdown",
      "metadata": {},
      "source": [
        "## Training Once (Save Model)"
      ]
    },
    {
      "cell_type": "code",
      "execution_count": 61,
      "metadata": {
        "colab": {
          "base_uri": "https://localhost:8080/"
        },
        "id": "rguF9mue9myO",
        "outputId": "dde9aded-563d-483e-c5f2-a19c49927f39"
      },
      "outputs": [
        {
          "name": "stdout",
          "output_type": "stream",
          "text": [
            "Episode 100    Average Score: 24.23\n",
            "Episode 200    Average Score: 38.85\n",
            "Episode 300    Average Score: 48.32\n",
            "Episode 400    Average Score: 82.36\n",
            "Episode 500    Average Score: 118.95\n",
            "Episode 600    Average Score: 199.29\n",
            "Episode 700    Average Score: 314.0\n",
            "Episode 800    Average Score: 279.66\n",
            "Episode 900    Average Score: 260.94\n",
            "Episode 1000    Average Score: 409.33\n",
            "Episode 1100    Average Score: 442.74\n",
            "Episode 1200    Average Score: 393.33\n",
            "Episode 1300    Average Score: 424.07\n",
            "Episode 1400    Average Score: 413.71\n",
            "Episode 1500    Average Score: 442.49\n",
            "Episode 1600    Average Score: 442.7\n",
            "Environment solved in 1678 episodes !!!!   Average Score: 477.74\n"
          ]
        }
      ],
      "source": [
        "scores = duelingDQN(agent=cartpole_agent_type1, exp_no = 3)"
      ]
    },
    {
      "cell_type": "markdown",
      "metadata": {},
      "source": [
        "## Test Model (Video)"
      ]
    },
    {
      "cell_type": "code",
      "execution_count": 62,
      "metadata": {
        "colab": {
          "base_uri": "https://localhost:8080/"
        },
        "id": "n77ILh0R6hmY",
        "outputId": "1314a030-38ed-4015-f7b0-f97bdf9ad975"
      },
      "outputs": [
        {
          "name": "stderr",
          "output_type": "stream",
          "text": [
            "ffmpeg version 4.2.7-0ubuntu0.1 Copyright (c) 2000-2022 the FFmpeg developers\n",
            "  built with gcc 9 (Ubuntu 9.4.0-1ubuntu1~20.04.1)\n",
            "  configuration: --prefix=/usr --extra-version=0ubuntu0.1 --toolchain=hardened --libdir=/usr/lib/x86_64-linux-gnu --incdir=/usr/include/x86_64-linux-gnu --arch=amd64 --enable-gpl --disable-stripping --enable-avresample --disable-filter=resample --enable-avisynth --enable-gnutls --enable-ladspa --enable-libaom --enable-libass --enable-libbluray --enable-libbs2b --enable-libcaca --enable-libcdio --enable-libcodec2 --enable-libflite --enable-libfontconfig --enable-libfreetype --enable-libfribidi --enable-libgme --enable-libgsm --enable-libjack --enable-libmp3lame --enable-libmysofa --enable-libopenjpeg --enable-libopenmpt --enable-libopus --enable-libpulse --enable-librsvg --enable-librubberband --enable-libshine --enable-libsnappy --enable-libsoxr --enable-libspeex --enable-libssh --enable-libtheora --enable-libtwolame --enable-libvidstab --enable-libvorbis --enable-libvpx --enable-libwavpack --enable-libwebp --enable-libx265 --enable-libxml2 --enable-libxvid --enable-libzmq --enable-libzvbi --enable-lv2 --enable-omx --enable-openal --enable-opencl --enable-opengl --enable-sdl2 --enable-libdc1394 --enable-libdrm --enable-libiec61883 --enable-nvenc --enable-chromaprint --enable-frei0r --enable-libx264 --enable-shared\n",
            "  libavutil      56. 31.100 / 56. 31.100\n",
            "  libavcodec     58. 54.100 / 58. 54.100\n",
            "  libavformat    58. 29.100 / 58. 29.100\n",
            "  libavdevice    58.  8.100 / 58.  8.100\n",
            "  libavfilter     7. 57.100 /  7. 57.100\n",
            "  libavresample   4.  0.  0 /  4.  0.  0\n",
            "  libswscale      5.  5.100 /  5.  5.100\n",
            "  libswresample   3.  5.100 /  3.  5.100\n",
            "  libpostproc    55.  5.100 / 55.  5.100\n",
            "Input #0, image2, from './cartpole_images_experiment3/frame_%d.png':\n",
            "  Duration: 00:00:20.00, start: 0.000000, bitrate: N/A\n",
            "    Stream #0:0: Video: png, rgba(pc), 600x400 [SAR 3937:3937 DAR 3:2], 25 fps, 25 tbr, 25 tbn, 25 tbc\n",
            "Stream mapping:\n",
            "  Stream #0:0 -> #0:0 (png (native) -> h264 (libx264))\n",
            "Press [q] to stop, [?] for help\n",
            "[libx264 @ 0x55927ba806c0] using SAR=1/1\n",
            "[libx264 @ 0x55927ba806c0] using cpu capabilities: MMX2 SSE2Fast SSSE3 SSE4.2 AVX FMA3 BMI2 AVX2 AVX512\n",
            "[libx264 @ 0x55927ba806c0] profile High, level 3.0\n",
            "[libx264 @ 0x55927ba806c0] 264 - core 155 r2917 0a84d98 - H.264/MPEG-4 AVC codec - Copyleft 2003-2018 - http://www.videolan.org/x264.html - options: cabac=1 ref=3 deblock=1:0:0 analyse=0x3:0x113 me=hex subme=7 psy=1 psy_rd=1.00:0.00 mixed_ref=1 me_range=16 chroma_me=1 trellis=1 8x8dct=1 cqm=0 deadzone=21,11 fast_pskip=1 chroma_qp_offset=-2 threads=12 lookahead_threads=2 sliced_threads=0 nr=0 decimate=1 interlaced=0 bluray_compat=0 constrained_intra=0 bframes=3 b_pyramid=2 b_adapt=1 b_bias=0 direct=1 weightb=1 open_gop=0 weightp=2 keyint=250 keyint_min=25 scenecut=40 intra_refresh=0 rc_lookahead=40 rc=crf mbtree=1 crf=23.0 qcomp=0.60 qpmin=0 qpmax=69 qpstep=4 ip_ratio=1.40 aq=1:1.00\n",
            "Output #0, mp4, to './cartpole_video_experiment3.mp4':\n",
            "  Metadata:\n",
            "    encoder         : Lavf58.29.100\n",
            "    Stream #0:0: Video: h264 (libx264) (avc1 / 0x31637661), yuv420p, 600x400 [SAR 1:1 DAR 3:2], q=-1--1, 25 fps, 12800 tbn, 25 tbc\n",
            "    Metadata:\n",
            "      encoder         : Lavc58.54.100 libx264\n",
            "    Side data:\n",
            "      cpb: bitrate max/min/avg: 0/0/0 buffer size: 0 vbv_delay: -1\n",
            "frame=  500 fps=0.0 q=-1.0 Lsize=      42kB time=00:00:19.88 bitrate=  17.5kbits/s speed=31.1x    \n",
            "video:36kB audio:0kB subtitle:0kB other streams:0kB global headers:0kB muxing overhead: 18.466444%\n",
            "[libx264 @ 0x55927ba806c0] frame I:2     Avg QP: 9.55  size:   666\n",
            "[libx264 @ 0x55927ba806c0] frame P:134   Avg QP:16.71  size:   118\n",
            "[libx264 @ 0x55927ba806c0] frame B:364   Avg QP:15.67  size:    52\n",
            "[libx264 @ 0x55927ba806c0] consecutive B-frames:  1.0%  4.0%  5.4% 89.6%\n",
            "[libx264 @ 0x55927ba806c0] mb I  I16..4: 87.2% 10.8%  2.0%\n",
            "[libx264 @ 0x55927ba806c0] mb P  I16..4:  0.2%  0.2%  0.0%  P16..4:  1.5%  0.5%  0.1%  0.0%  0.0%    skip:97.5%\n",
            "[libx264 @ 0x55927ba806c0] mb B  I16..4:  0.0%  0.0%  0.0%  B16..8:  1.9%  0.2%  0.0%  direct: 0.0%  skip:97.8%  L0:48.5% L1:50.4% BI: 1.1%\n",
            "[libx264 @ 0x55927ba806c0] 8x8 transform intra:17.7% inter:8.0%\n",
            "[libx264 @ 0x55927ba806c0] coded y,uvDC,uvAC intra: 2.1% 3.3% 2.4% inter: 0.0% 0.1% 0.1%\n",
            "[libx264 @ 0x55927ba806c0] i16 v,h,dc,p: 88%  8%  4%  0%\n",
            "[libx264 @ 0x55927ba806c0] i8 v,h,dc,ddl,ddr,vr,hd,vl,hu: 21%  9% 69%  0%  0%  0%  0%  0%  0%\n",
            "[libx264 @ 0x55927ba806c0] i4 v,h,dc,ddl,ddr,vr,hd,vl,hu: 56% 11% 28%  1%  0%  0%  0%  2%  0%\n",
            "[libx264 @ 0x55927ba806c0] i8c dc,h,v,p: 86%  1% 13%  0%\n",
            "[libx264 @ 0x55927ba806c0] Weighted P-Frames: Y:0.0% UV:0.0%\n",
            "[libx264 @ 0x55927ba806c0] ref P L0: 72.8%  0.8% 16.8%  9.6%\n",
            "[libx264 @ 0x55927ba806c0] ref B L0: 83.8% 12.9%  3.2%\n",
            "[libx264 @ 0x55927ba806c0] ref B L1: 95.5%  4.5%\n",
            "[libx264 @ 0x55927ba806c0] kb/s:14.40\n"
          ]
        },
        {
          "data": {
            "text/plain": [
              "0"
            ]
          },
          "execution_count": 62,
          "metadata": {},
          "output_type": "execute_result"
        }
      ],
      "source": [
        "cartpole_agent_type1.qnetworkPrimary.load_state_dict(torch.load('cartpole_model_weights3.pth'))\n",
        "\n",
        "frames = []\n",
        "for _ in range(1):\n",
        "    state = env.reset()\n",
        "    for _ in range(500):\n",
        "        action = cartpole_agent_type1.move(state)\n",
        "        state, _, done, _ = env.step(action)\n",
        "        frames.append(env.render(mode='rgb_array'))\n",
        "        if done:\n",
        "            break\n",
        "\n",
        "image_dir = './cartpole_images_experiment3'\n",
        "os.makedirs(image_dir, exist_ok=True)\n",
        "for i, frame in enumerate(frames):\n",
        "    image_path = os.path.join(image_dir, f'frame_{i}.png')\n",
        "    plt.imsave(image_path, frame)\n",
        "\n",
        "import subprocess\n",
        "video_path = './cartpole_video_experiment3.mp4'\n",
        "subprocess.call(['ffmpeg', '-framerate', '25', '-i', os.path.join(image_dir, 'frame_%d.png'), '-c:v', 'libx264', '-pix_fmt', 'yuv420p', video_path])"
      ]
    },
    {
      "cell_type": "markdown",
      "metadata": {},
      "source": [
        "## Experiment 4: Cartpole - Type 2"
      ]
    },
    {
      "cell_type": "code",
      "execution_count": 63,
      "metadata": {
        "colab": {
          "base_uri": "https://localhost:8080/"
        },
        "id": "--zLtYWu9blS",
        "outputId": "1ebd08a5-4f65-4e91-bf64-d47ce2aa0f6f"
      },
      "outputs": [
        {
          "name": "stdout",
          "output_type": "stream",
          "text": [
            "######## Experiment 4: Dueling DQN Type 2 ############\n",
            "\n",
            "######## Environment 2: Cartpole ############\n",
            " \n",
            "Observation Space: Box([-4.8000002e+00 -3.4028235e+38 -4.1887903e-01 -3.4028235e+38], [4.8000002e+00 3.4028235e+38 4.1887903e-01 3.4028235e+38], (4,), float32)\n",
            "\n",
            "Observation Space Shape: (4,)\n",
            "\n",
            "Action Space: Discrete(2)\n",
            "\n",
            "Number of Actions: 2\n",
            "\n",
            "Reward Threshold: 475.0\n"
          ]
        }
      ],
      "source": [
        "print(\"######## Experiment 4: Dueling DQN Type 2 ############\\n\")\n",
        "print(\"######## Environment 2: Cartpole ############\")\n",
        "print(\" \")\n",
        "env = gym.make('CartPole-v1')\n",
        "env.seed(0)\n",
        "\n",
        "print(f\"Observation Space: {env.observation_space}\\n\")\n",
        "print(f\"Observation Space Shape: {env.observation_space.shape}\\n\")\n",
        "print(f\"Action Space: {env.action_space}\\n\")\n",
        "print(f\"Number of Actions: {env.action_space.n}\\n\")\n",
        "print(f\"Reward Threshold: {env.spec.reward_threshold}\")\n",
        "\n",
        "cartpole_agent_type2 = Agent(state_size=env.observation_space.shape[0], action_size=env.action_space.n, seed=0, qnetwork=QNetworkType2)"
      ]
    },
    {
      "cell_type": "markdown",
      "metadata": {},
      "source": [
        "## Training Over 5 Random Seeds"
      ]
    },
    {
      "cell_type": "code",
      "execution_count": 64,
      "metadata": {
        "colab": {
          "base_uri": "https://localhost:8080/"
        },
        "id": "4lBtZpBw9uG6",
        "outputId": "7b085fac-74cb-471b-e9dd-9498ae351452"
      },
      "outputs": [
        {
          "name": "stdout",
          "output_type": "stream",
          "text": [
            "\n",
            "Training with seed 1\n",
            "\n"
          ]
        },
        {
          "name": "stdout",
          "output_type": "stream",
          "text": [
            "Episode 100    Average Score: 20.8\n",
            "Episode 200    Average Score: 18.26\n",
            "Episode 300    Average Score: 40.55\n",
            "Episode 400    Average Score: 181.31\n",
            "Episode 500    Average Score: 228.19\n",
            "Episode 600    Average Score: 248.76\n",
            "Episode 700    Average Score: 244.16\n",
            "Episode 800    Average Score: 257.44\n",
            "Episode 900    Average Score: 285.47\n",
            "Episode 1000    Average Score: 310.99\n",
            "Episode 1100    Average Score: 364.26\n",
            "Episode 1200    Average Score: 300.23\n",
            "Episode 1300    Average Score: 251.99\n",
            "Episode 1400    Average Score: 198.63\n",
            "Episode 1500    Average Score: 190.21\n",
            "Episode 1600    Average Score: 199.38\n",
            "Episode 1700    Average Score: 212.81\n",
            "Episode 1800    Average Score: 309.52\n",
            "Environment solved in 1871 episodes !!!!   Average Score: 476.38\n",
            "\n",
            "Training with seed 2\n",
            "\n",
            "Episode 100    Average Score: 30.67\n",
            "Episode 200    Average Score: 48.83\n",
            "Episode 300    Average Score: 74.18\n",
            "Episode 400    Average Score: 148.24\n",
            "Episode 500    Average Score: 243.77\n",
            "Episode 600    Average Score: 267.65\n",
            "Episode 700    Average Score: 327.34\n",
            "Episode 800    Average Score: 465.44\n",
            "Environment solved in 830 episodes !!!!   Average Score: 475.44\n",
            "\n",
            "Training with seed 3\n",
            "\n",
            "Episode 100    Average Score: 28.17\n",
            "Episode 200    Average Score: 57.96\n",
            "Episode 300    Average Score: 84.78\n",
            "Episode 400    Average Score: 181.76\n",
            "Episode 500    Average Score: 234.37\n",
            "Episode 600    Average Score: 314.43\n",
            "Episode 700    Average Score: 411.51\n",
            "Episode 800    Average Score: 458.28\n",
            "Episode 900    Average Score: 423.29\n",
            "Episode 1000    Average Score: 368.5\n",
            "Episode 1100    Average Score: 168.21\n",
            "Episode 1200    Average Score: 125.47\n",
            "Episode 1300    Average Score: 115.53\n",
            "Episode 1400    Average Score: 114.6\n",
            "Episode 1500    Average Score: 116.7\n",
            "Episode 1600    Average Score: 119.38\n",
            "Episode 1700    Average Score: 130.68\n",
            "Episode 1800    Average Score: 191.45\n",
            "Episode 1900    Average Score: 399.87\n",
            "Environment solved in 1927 episodes !!!!   Average Score: 477.87\n",
            "\n",
            "Training with seed 4\n",
            "\n",
            "Episode 100    Average Score: 30.28\n",
            "Episode 200    Average Score: 50.5\n",
            "Episode 300    Average Score: 110.73\n",
            "Episode 400    Average Score: 195.64\n",
            "Episode 500    Average Score: 234.88\n",
            "Episode 600    Average Score: 324.33\n",
            "Episode 700    Average Score: 352.61\n",
            "Episode 800    Average Score: 423.52\n",
            "Episode 900    Average Score: 446.46\n",
            "Episode 1000    Average Score: 443.58\n",
            "Environment solved in 1066 episodes !!!!   Average Score: 477.14\n",
            "\n",
            "Training with seed 5\n",
            "\n",
            "Episode 100    Average Score: 25.7\n",
            "Episode 200    Average Score: 40.2\n",
            "Episode 300    Average Score: 75.36\n",
            "Episode 400    Average Score: 139.24\n",
            "Episode 500    Average Score: 218.31\n",
            "Episode 600    Average Score: 283.28\n",
            "Episode 700    Average Score: 310.46\n",
            "Episode 800    Average Score: 359.76\n",
            "Episode 900    Average Score: 392.84\n",
            "Episode 1000    Average Score: 452.25\n",
            "Episode 1100    Average Score: 452.39\n",
            "Environment solved in 1174 episodes !!!!   Average Score: 475.93\n"
          ]
        }
      ],
      "source": [
        "scores_experiment4 = multiple_experiments(agent=cartpole_agent_type2, exp_no=4)"
      ]
    },
    {
      "cell_type": "markdown",
      "metadata": {},
      "source": [
        "## Training Once (Save Model)"
      ]
    },
    {
      "cell_type": "code",
      "execution_count": 65,
      "metadata": {
        "colab": {
          "base_uri": "https://localhost:8080/"
        },
        "id": "gXSOC6fZ9uLe",
        "outputId": "0ebec978-7df7-41c5-d11e-9030fc499930"
      },
      "outputs": [
        {
          "name": "stdout",
          "output_type": "stream",
          "text": [
            "Episode 100    Average Score: 26.92\n",
            "Episode 200    Average Score: 37.43\n",
            "Episode 300    Average Score: 44.45\n",
            "Episode 400    Average Score: 95.98\n",
            "Episode 500    Average Score: 135.48\n",
            "Episode 600    Average Score: 214.38\n",
            "Episode 700    Average Score: 240.63\n",
            "Episode 800    Average Score: 308.66\n",
            "Episode 900    Average Score: 346.44\n",
            "Episode 1000    Average Score: 395.76\n",
            "Episode 1100    Average Score: 377.32\n",
            "Episode 1200    Average Score: 397.74\n",
            "Episode 1300    Average Score: 424.02\n",
            "Environment solved in 1378 episodes !!!!   Average Score: 476.01\n"
          ]
        }
      ],
      "source": [
        "scores = duelingDQN(agent=cartpole_agent_type2, exp_no = 4)"
      ]
    },
    {
      "cell_type": "markdown",
      "metadata": {},
      "source": [
        "## Testing Model (Video)"
      ]
    },
    {
      "cell_type": "code",
      "execution_count": 66,
      "metadata": {
        "colab": {
          "base_uri": "https://localhost:8080/"
        },
        "id": "hr43K26-9yMe",
        "outputId": "536f6ac0-97a8-406c-9d7c-ca16b7883651"
      },
      "outputs": [
        {
          "name": "stderr",
          "output_type": "stream",
          "text": [
            "ffmpeg version 4.2.7-0ubuntu0.1 Copyright (c) 2000-2022 the FFmpeg developers\n",
            "  built with gcc 9 (Ubuntu 9.4.0-1ubuntu1~20.04.1)\n",
            "  configuration: --prefix=/usr --extra-version=0ubuntu0.1 --toolchain=hardened --libdir=/usr/lib/x86_64-linux-gnu --incdir=/usr/include/x86_64-linux-gnu --arch=amd64 --enable-gpl --disable-stripping --enable-avresample --disable-filter=resample --enable-avisynth --enable-gnutls --enable-ladspa --enable-libaom --enable-libass --enable-libbluray --enable-libbs2b --enable-libcaca --enable-libcdio --enable-libcodec2 --enable-libflite --enable-libfontconfig --enable-libfreetype --enable-libfribidi --enable-libgme --enable-libgsm --enable-libjack --enable-libmp3lame --enable-libmysofa --enable-libopenjpeg --enable-libopenmpt --enable-libopus --enable-libpulse --enable-librsvg --enable-librubberband --enable-libshine --enable-libsnappy --enable-libsoxr --enable-libspeex --enable-libssh --enable-libtheora --enable-libtwolame --enable-libvidstab --enable-libvorbis --enable-libvpx --enable-libwavpack --enable-libwebp --enable-libx265 --enable-libxml2 --enable-libxvid --enable-libzmq --enable-libzvbi --enable-lv2 --enable-omx --enable-openal --enable-opencl --enable-opengl --enable-sdl2 --enable-libdc1394 --enable-libdrm --enable-libiec61883 --enable-nvenc --enable-chromaprint --enable-frei0r --enable-libx264 --enable-shared\n",
            "  libavutil      56. 31.100 / 56. 31.100\n",
            "  libavcodec     58. 54.100 / 58. 54.100\n",
            "  libavformat    58. 29.100 / 58. 29.100\n",
            "  libavdevice    58.  8.100 / 58.  8.100\n",
            "  libavfilter     7. 57.100 /  7. 57.100\n",
            "  libavresample   4.  0.  0 /  4.  0.  0\n",
            "  libswscale      5.  5.100 /  5.  5.100\n",
            "  libswresample   3.  5.100 /  3.  5.100\n",
            "  libpostproc    55.  5.100 / 55.  5.100\n",
            "Input #0, image2, from './cartpole_images_experiment4/frame_%d.png':\n",
            "  Duration: 00:00:20.00, start: 0.000000, bitrate: N/A\n",
            "    Stream #0:0: Video: png, rgba(pc), 600x400 [SAR 3937:3937 DAR 3:2], 25 fps, 25 tbr, 25 tbn, 25 tbc\n",
            "Stream mapping:\n",
            "  Stream #0:0 -> #0:0 (png (native) -> h264 (libx264))\n",
            "Press [q] to stop, [?] for help\n",
            "[libx264 @ 0x565272da6fc0] using SAR=1/1\n",
            "[libx264 @ 0x565272da6fc0] using cpu capabilities: MMX2 SSE2Fast SSSE3 SSE4.2 AVX FMA3 BMI2 AVX2 AVX512\n",
            "[libx264 @ 0x565272da6fc0] profile High, level 3.0\n",
            "[libx264 @ 0x565272da6fc0] 264 - core 155 r2917 0a84d98 - H.264/MPEG-4 AVC codec - Copyleft 2003-2018 - http://www.videolan.org/x264.html - options: cabac=1 ref=3 deblock=1:0:0 analyse=0x3:0x113 me=hex subme=7 psy=1 psy_rd=1.00:0.00 mixed_ref=1 me_range=16 chroma_me=1 trellis=1 8x8dct=1 cqm=0 deadzone=21,11 fast_pskip=1 chroma_qp_offset=-2 threads=12 lookahead_threads=2 sliced_threads=0 nr=0 decimate=1 interlaced=0 bluray_compat=0 constrained_intra=0 bframes=3 b_pyramid=2 b_adapt=1 b_bias=0 direct=1 weightb=1 open_gop=0 weightp=2 keyint=250 keyint_min=25 scenecut=40 intra_refresh=0 rc_lookahead=40 rc=crf mbtree=1 crf=23.0 qcomp=0.60 qpmin=0 qpmax=69 qpstep=4 ip_ratio=1.40 aq=1:1.00\n",
            "Output #0, mp4, to './cartpole_video_experiment4.mp4':\n",
            "  Metadata:\n",
            "    encoder         : Lavf58.29.100\n",
            "    Stream #0:0: Video: h264 (libx264) (avc1 / 0x31637661), yuv420p, 600x400 [SAR 1:1 DAR 3:2], q=-1--1, 25 fps, 12800 tbn, 25 tbc\n",
            "    Metadata:\n",
            "      encoder         : Lavc58.54.100 libx264\n",
            "    Side data:\n",
            "      cpb: bitrate max/min/avg: 0/0/0 buffer size: 0 vbv_delay: -1\n",
            "frame=  500 fps=0.0 q=-1.0 Lsize=      49kB time=00:00:19.88 bitrate=  20.2kbits/s speed=28.4x    \n",
            "video:42kB audio:0kB subtitle:0kB other streams:0kB global headers:0kB muxing overhead: 15.472733%\n",
            "[libx264 @ 0x565272da6fc0] frame I:2     Avg QP: 7.92  size:   690\n",
            "[libx264 @ 0x565272da6fc0] frame P:146   Avg QP:17.06  size:   142\n",
            "[libx264 @ 0x565272da6fc0] frame B:352   Avg QP:15.43  size:    59\n",
            "[libx264 @ 0x565272da6fc0] consecutive B-frames:  3.4%  5.6%  7.8% 83.2%\n",
            "[libx264 @ 0x565272da6fc0] mb I  I16..4: 97.6%  0.1%  2.4%\n",
            "[libx264 @ 0x565272da6fc0] mb P  I16..4:  0.2%  0.2%  0.0%  P16..4:  1.5%  0.6%  0.3%  0.0%  0.0%    skip:97.2%\n",
            "[libx264 @ 0x565272da6fc0] mb B  I16..4:  0.0%  0.0%  0.0%  B16..8:  1.9%  0.4%  0.0%  direct: 0.0%  skip:97.6%  L0:46.7% L1:52.1% BI: 1.2%\n",
            "[libx264 @ 0x565272da6fc0] 8x8 transform intra:13.7% inter:8.0%\n",
            "[libx264 @ 0x565272da6fc0] coded y,uvDC,uvAC intra: 2.1% 3.2% 2.4% inter: 0.1% 0.1% 0.1%\n",
            "[libx264 @ 0x565272da6fc0] i16 v,h,dc,p: 88%  8%  4%  0%\n",
            "[libx264 @ 0x565272da6fc0] i8 v,h,dc,ddl,ddr,vr,hd,vl,hu:  4%  6% 90%  0%  0%  0%  0%  0%  0%\n",
            "[libx264 @ 0x565272da6fc0] i4 v,h,dc,ddl,ddr,vr,hd,vl,hu: 50% 14% 33%  1%  0%  0%  0%  1%  0%\n",
            "[libx264 @ 0x565272da6fc0] i8c dc,h,v,p: 87%  2% 12%  0%\n",
            "[libx264 @ 0x565272da6fc0] Weighted P-Frames: Y:0.0% UV:0.0%\n",
            "[libx264 @ 0x565272da6fc0] ref P L0: 76.1%  1.2% 13.8%  9.0%\n",
            "[libx264 @ 0x565272da6fc0] ref B L0: 85.6% 12.3%  2.2%\n",
            "[libx264 @ 0x565272da6fc0] ref B L1: 95.3%  4.7%\n",
            "[libx264 @ 0x565272da6fc0] kb/s:17.08\n"
          ]
        },
        {
          "data": {
            "text/plain": [
              "0"
            ]
          },
          "execution_count": 66,
          "metadata": {},
          "output_type": "execute_result"
        }
      ],
      "source": [
        "cartpole_agent_type2.qnetworkPrimary.load_state_dict(torch.load('cartpole_model_weights4.pth'))\n",
        "\n",
        "frames = []\n",
        "for _ in range(1):\n",
        "    state = env.reset()\n",
        "    for _ in range(500):\n",
        "        action = cartpole_agent_type2.move(state)\n",
        "        state, _, done, _ = env.step(action)\n",
        "        frames.append(env.render(mode='rgb_array'))\n",
        "        if done:\n",
        "            break\n",
        "\n",
        "image_dir = './cartpole_images_experiment4'\n",
        "os.makedirs(image_dir, exist_ok=True)\n",
        "for i, frame in enumerate(frames):\n",
        "    image_path = os.path.join(image_dir, f'frame_{i}.png')\n",
        "    plt.imsave(image_path, frame)\n",
        "\n",
        "import subprocess\n",
        "video_path = './cartpole_video_experiment4.mp4'\n",
        "subprocess.call(['ffmpeg', '-framerate', '25', '-i', os.path.join(image_dir, 'frame_%d.png'), '-c:v', 'libx264', '-pix_fmt', 'yuv420p', video_path])"
      ]
    },
    {
      "cell_type": "markdown",
      "metadata": {},
      "source": [
        "## Plot for Mean and Variance (Type 1 vs Type 2)"
      ]
    },
    {
      "cell_type": "code",
      "execution_count": 67,
      "metadata": {},
      "outputs": [
        {
          "data": {
            "image/png": "[encoded data removed]",
            "text/plain": [
              "<Figure size 640x480 with 1 Axes>"
            ]
          },
          "metadata": {},
          "output_type": "display_data"
        }
      ],
      "source": [
        "window_size = 30\n",
        "scores1, scores2 = [], []\n",
        "\n",
        "for i in range(5):\n",
        "    scores1.append(np.convolve(scores_experiment3[i], np.ones(window_size)/window_size, mode=\"valid\"))\n",
        "    scores2.append(np.convolve(scores_experiment4[i], np.ones(window_size)/window_size, mode=\"valid\"))\n",
        "\n",
        "mean_scores_exp3, mean_scores_exp4 = np.mean(scores1, axis=0), np.mean(scores2, axis=0)\n",
        "std_scores_exp3, std_scores_exp4 = np.std(scores1, axis=0), np.std(scores2, axis=0)\n",
        "\n",
        "sns.lineplot(x=range(len(mean_scores_exp3)), y=mean_scores_exp3, linewidth=1, label='Type 1', color=\"red\")\n",
        "sns.lineplot(x=range(len(mean_scores_exp4)), y=mean_scores_exp4, linewidth=1, label='Type 2', color=\"skyblue\")\n",
        "\n",
        "plt.fill_between(\n",
        "    x=range(len(mean_scores_exp3)),\n",
        "    y1=mean_scores_exp3 - std_scores_exp3[0:len(mean_scores_exp3)],\n",
        "    y2=mean_scores_exp3 + std_scores_exp3[0:len(mean_scores_exp3)],\n",
        "    alpha=0.2, \n",
        "    color='red'\n",
        ")\n",
        "plt.fill_between(\n",
        "    x=range(len(mean_scores_exp4)),\n",
        "    y1=mean_scores_exp4 - std_scores_exp4[0:len(mean_scores_exp4)],\n",
        "    y2=mean_scores_exp4 + std_scores_exp4[0:len(mean_scores_exp4)],\n",
        "    alpha=0.2,\n",
        "    color='skyblue'\n",
        ")\n",
        "\n",
        "plt.xlabel('Episode Number')\n",
        "plt.ylabel('Episodic Return')\n",
        "plt.title('Dueling DQN (Cartpole)')\n",
        "plt.legend()\n",
        "plt.show()\n"
      ]
    }
  ],
  "metadata": {
    "colab": {
      "provenance": []
    },
    "kernelspec": {
      "display_name": "Python 3",
      "name": "python3"
    },
    "language_info": {
      "codemirror_mode": {
        "name": "ipython",
        "version": 3
      },
      "file_extension": ".py",
      "mimetype": "text/x-python",
      "name": "python",
      "nbconvert_exporter": "python",
      "pygments_lexer": "ipython3",
      "version": "3.8.10"
    }
  },
  "nbformat": 4,
  "nbformat_minor": 0
}
