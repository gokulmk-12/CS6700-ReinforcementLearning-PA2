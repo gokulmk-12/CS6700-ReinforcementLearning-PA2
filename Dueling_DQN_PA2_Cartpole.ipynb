{
  "cells": [
    {
      "cell_type": "markdown",
      "metadata": {},
      "source": [
        "## Installing Necessary Packages"
      ]
    },
    {
      "cell_type": "code",
      "execution_count": 1,
      "metadata": {
        "id": "CfZC3U4R3vvI"
      },
      "outputs": [],
      "source": [
        "!apt-get install -y xvfb python-opengl ffmpeg > /dev/null 2>&1\n",
        "!pip install -U colabgymrender &> /dev/null\n",
        "!pip install imageio==2.4.1 &> /dev/null\n",
        "!pip install --upgrade AutoROM &> /dev/null\n",
        "!AutoROM --accept-license &> /dev/null\n",
        "!pip install gym[atari,accept-rom-license] &> /dev/null"
      ]
    },
    {
      "cell_type": "markdown",
      "metadata": {},
      "source": [
        "## Importing Necessary Packages"
      ]
    },
    {
      "cell_type": "code",
      "execution_count": 2,
      "metadata": {
        "id": "r0NjXyr9whAf"
      },
      "outputs": [],
      "source": [
        "import gym\n",
        "import os\n",
        "import torch\n",
        "import random\n",
        "import seaborn as sns\n",
        "import torch.nn as nn\n",
        "import torch.optim as optim\n",
        "import matplotlib.pyplot as plt\n",
        "import numpy as np\n",
        "import torch.nn.functional as f\n",
        "from collections import namedtuple, deque\n",
        "%matplotlib inline\n",
        "from IPython import display as ipythondisplay\n",
        "import warnings\n",
        "warnings.filterwarnings(\"ignore\", category=DeprecationWarning)"
      ]
    },
    {
      "cell_type": "markdown",
      "metadata": {},
      "source": [
        "## Hyperparameters"
      ]
    },
    {
      "cell_type": "code",
      "execution_count": 3,
      "metadata": {
        "id": "nztSfn4pxEAO"
      },
      "outputs": [],
      "source": [
        "BATCH_SIZE = 128\n",
        "BUFFER_SIZE = 1000000\n",
        "GAMMA = 0.99\n",
        "LR = 0.00025\n",
        "FREQUENCY = 5\n",
        "TAU = 0.005"
      ]
    },
    {
      "cell_type": "markdown",
      "metadata": {},
      "source": [
        "## Replay Buffer (Store <state, action, reward, next_state, done>)"
      ]
    },
    {
      "cell_type": "code",
      "execution_count": 4,
      "metadata": {
        "id": "vTFHRt_O1Nx0"
      },
      "outputs": [],
      "source": [
        "class ReplayBuffer:\n",
        "\n",
        "  def __init__(self, action_size, buffer_size, batch_size, seed):\n",
        "    self.action_size = action_size\n",
        "    self.memory = deque(maxlen=buffer_size)\n",
        "    self.batch_size = batch_size\n",
        "\n",
        "    self.experience = namedtuple(\"Experience\", field_names=[\"state\", \"action\", \"reward\", \"next_state\", \"done\"])\n",
        "    self.seed = random.seed(seed)\n",
        "\n",
        "  def add(self, state, action, reward, next_state, done):\n",
        "    self.memory.append(self.experience(state, action, reward, next_state, done))\n",
        "\n",
        "  def sample(self):\n",
        "    experience = random.sample(self.memory, k=self.batch_size)\n",
        "\n",
        "    states = torch.from_numpy(np.vstack([i.state for i in experience if i is not None])).float()\n",
        "    actions = torch.from_numpy(np.vstack([i.action for i in experience if i is not None])).float()\n",
        "    rewards = torch.from_numpy(np.vstack([i.reward for i in experience if i is not None])).float()\n",
        "    next_states = torch.from_numpy(np.vstack([i.next_state for i in experience if i is not None])).float()\n",
        "    dones = torch.from_numpy(np.vstack([i.done for i in experience if i is not None]).astype(np.uint8)).float()\n",
        "\n",
        "    return (states, actions, rewards, next_states, dones)\n",
        "\n",
        "  def __len__(self):\n",
        "    return len(self.memory)\n"
      ]
    },
    {
      "cell_type": "markdown",
      "metadata": {},
      "source": [
        "## Newtork Type 1 (Mean Advantage)"
      ]
    },
    {
      "cell_type": "code",
      "execution_count": 23,
      "metadata": {
        "id": "MxEogkmGzbZA"
      },
      "outputs": [],
      "source": [
        "class QNetworkType1(nn.Module):\n",
        "\n",
        "  def __init__(self, state_size, action_size, seed):\n",
        "    super(QNetworkType1, self).__init__()\n",
        "    self.seed = torch.manual_seed(seed)\n",
        "\n",
        "    self.layer1 = nn.Linear(state_size, 512)\n",
        "    # self.layer2 = nn.Linear(128, 128)\n",
        "\n",
        "    self.value_function = nn.Linear(512, 1)\n",
        "\n",
        "    self.advantage = nn.Linear(512, action_size)\n",
        "\n",
        "  def forward(self, state):\n",
        "\n",
        "    # x = f.relu(self.layer2(f.relu(self.layer1(state))))\n",
        "    x = f.relu(self.layer1(state))\n",
        "    value_function = self.value_function(x)\n",
        "    advantage = self.advantage(x)\n",
        "\n",
        "    return value_function + (advantage-advantage.mean(dim=1, keepdim=True))"
      ]
    },
    {
      "cell_type": "markdown",
      "metadata": {},
      "source": [
        "## Network Type 2 (Max Advantage)"
      ]
    },
    {
      "cell_type": "code",
      "execution_count": 24,
      "metadata": {
        "id": "638yBOPI1mE8"
      },
      "outputs": [],
      "source": [
        "class QNetworkType2(nn.Module):\n",
        "\n",
        "  def __init__(self, state_size, action_size, seed):\n",
        "    super(QNetworkType2, self).__init__()\n",
        "    self.seed = torch.manual_seed(seed)\n",
        "\n",
        "    self.layer1 = nn.Linear(state_size, 512)\n",
        "    # self.layer2 = nn.Linear(128, 128)\n",
        "\n",
        "    self.value_function = nn.Linear(512, 1)\n",
        "\n",
        "    self.advantage = nn.Linear(512, action_size)\n",
        "\n",
        "  def forward(self, state):\n",
        "\n",
        "    # x = f.relu(self.layer2(f.relu(self.layer1(state))))\n",
        "    x = f.relu(self.layer1(state))\n",
        "    value_function = self.value_function(x)\n",
        "    advantage = self.advantage(x)\n",
        "\n",
        "    return value_function + (advantage-advantage.max(dim=1, keepdim=True)[0])"
      ]
    },
    {
      "cell_type": "markdown",
      "metadata": {},
      "source": [
        "## Agent"
      ]
    },
    {
      "cell_type": "code",
      "execution_count": 25,
      "metadata": {
        "id": "lHRKWxSk60HU"
      },
      "outputs": [],
      "source": [
        "class Agent():\n",
        "  def __init__(self, state_size, action_size, seed, qnetwork = QNetworkType1):\n",
        "    self.state_size = state_size\n",
        "    self.action_size = action_size\n",
        "    self.seed = random.seed(seed)\n",
        "\n",
        "    self.qnetworkPrimary = qnetwork(state_size, action_size, seed)\n",
        "    self.qnetworkTarget = qnetwork(state_size, action_size, seed)\n",
        "\n",
        "    self.optimizer = optim.Adam(self.qnetworkPrimary.parameters(), lr=LR)\n",
        "\n",
        "    self.memory = ReplayBuffer(action_size, BUFFER_SIZE, BATCH_SIZE, seed)\n",
        "    self.timestep = 0\n",
        "\n",
        "  def step(self, state, action, reward, next_state, done):\n",
        "    self.memory.add(state, action, reward, next_state, done)\n",
        "\n",
        "    self.timestep = (self.timestep + 1) % FREQUENCY\n",
        "    if self.timestep == 0:\n",
        "      if len(self.memory) > BATCH_SIZE:\n",
        "        experiences = self.memory.sample()\n",
        "        self.learn(experiences, GAMMA)\n",
        "\n",
        "  def learn(self, experience, gamma):\n",
        "    states, actions, rewards, next_states, dones = experience\n",
        "\n",
        "    q_nextTarget = self.qnetworkTarget(next_states).detach().max(1)[0].unsqueeze(1)\n",
        "    actions = actions.type(torch.int64)\n",
        "    q_Target = rewards + (gamma*q_nextTarget*(1-dones))\n",
        "    q_Expected = self.qnetworkPrimary(states).gather(1, actions)\n",
        "\n",
        "    loss = f.mse_loss(q_Expected, q_Target)\n",
        "\n",
        "    self.optimizer.zero_grad()\n",
        "    loss.backward()\n",
        "    self.optimizer.step()\n",
        "\n",
        "    self.update(self.qnetworkPrimary, self.qnetworkTarget, TAU)\n",
        "\n",
        "  def update(self, primaryNetwork, targetNetwork, tau):\n",
        "\n",
        "    for target_param, local_param in zip(targetNetwork.parameters(), primaryNetwork.parameters()):\n",
        "      target_param.data.copy_(tau*local_param.data + (1 - tau)*target_param.data)\n",
        "\n",
        "  def move(self, state, eps=0):\n",
        "    state = torch.from_numpy(state).float().unsqueeze(0)\n",
        "    self.qnetworkPrimary.eval()\n",
        "    with torch.no_grad():\n",
        "      action_values = self.qnetworkPrimary(state)\n",
        "    self.qnetworkPrimary.train()\n",
        "\n",
        "    if random.random() > eps:\n",
        "      return np.argmax(action_values.data.numpy())\n",
        "    else:\n",
        "      return random.choice(np.arange(self.action_size))"
      ]
    },
    {
      "cell_type": "markdown",
      "metadata": {},
      "source": [
        "## Dueling DQN "
      ]
    },
    {
      "cell_type": "code",
      "execution_count": 26,
      "metadata": {
        "id": "pvJgsawz62-f"
      },
      "outputs": [],
      "source": [
        "def duelingDQN(agent, episodes = 2000, max_timestep = 1000, ep_start = 1.0, ep_end = 0.001, ep_decay = 0.9975, exp_no = 3):\n",
        "  scores= []\n",
        "  scores_window = deque(maxlen = 100)\n",
        "  epsilon = ep_start\n",
        "\n",
        "  for episode in range(1, episodes+1):\n",
        "    state = env.reset()\n",
        "    score = 0\n",
        "\n",
        "    for t in range(max_timestep):\n",
        "      action = agent.move(state, epsilon)\n",
        "      next_state, reward, done, _ = env.step(action)\n",
        "      agent.step(state, action, reward, next_state, done)\n",
        "      score+=reward\n",
        "      state = next_state\n",
        "      if done:\n",
        "        break\n",
        "\n",
        "    scores_window.append(score)\n",
        "    scores.append(score)\n",
        "    epsilon = max(ep_end, ep_decay*epsilon)\n",
        "\n",
        "    # print(f'Episode {episode}    Average Score: {np.mean(scores_window)}')\n",
        "    if episode % 100 == 0:\n",
        "      print(f'Episode {episode}    Average Score: {np.mean(scores_window)}')\n",
        "    if np.mean(scores_window) >= env.spec.reward_threshold:\n",
        "      print(f\"Environment solved in {episode} episodes !!!!   Average Score: {np.mean(scores_window)}\")\n",
        "      file_name = 'cartpole_model_weights'+str(exp_no)+'.pth'\n",
        "      torch.save(agent.qnetworkPrimary.state_dict(), file_name)\n",
        "      break\n",
        "\n",
        "  return scores"
      ]
    },
    {
      "cell_type": "markdown",
      "metadata": {},
      "source": [
        "## Multiple Seed "
      ]
    },
    {
      "cell_type": "code",
      "execution_count": 27,
      "metadata": {},
      "outputs": [],
      "source": [
        "def multiple_experiments(agent, num_seeds=5, exp_no = 1):\n",
        "    all_scores = []\n",
        "    min_length = float('inf')\n",
        "\n",
        "    for seed in range(num_seeds):\n",
        "        print(f\"\\nTraining with seed {seed+1}\\n\")\n",
        "        env.seed(seed)\n",
        "        scores = duelingDQN(agent=agent, exp_no = exp_no)\n",
        "        all_scores.append(scores)\n",
        "\n",
        "        min_length = min(min_length, len(scores))\n",
        "    # Calculate the average scores across all seeds for each episode\n",
        "\n",
        "    all_scores_dim = [score[:min_length] for score in all_scores]\n",
        "    return all_scores_dim"
      ]
    },
    {
      "cell_type": "markdown",
      "metadata": {},
      "source": [
        "## Experiment 3: Cartpole - Type 1 "
      ]
    },
    {
      "cell_type": "code",
      "execution_count": 28,
      "metadata": {
        "colab": {
          "base_uri": "https://localhost:8080/"
        },
        "id": "w-YIhTjG6Xe9",
        "outputId": "44be7fba-ddb8-462c-e0a0-e9d96e43b07e"
      },
      "outputs": [
        {
          "name": "stdout",
          "output_type": "stream",
          "text": [
            "######## Experiment 3: Dueling DQN Type 1 ############\n",
            "\n",
            "######## Environment 2: Cartpole ############\n",
            " \n",
            "Observation Space: Box([-4.8000002e+00 -3.4028235e+38 -4.1887903e-01 -3.4028235e+38], [4.8000002e+00 3.4028235e+38 4.1887903e-01 3.4028235e+38], (4,), float32)\n",
            "\n",
            "Observation Space Shape: (4,)\n",
            "\n",
            "Action Space: Discrete(2)\n",
            "\n",
            "Number of Actions: 2\n",
            "\n",
            "Reward Threshold: 475.0\n"
          ]
        }
      ],
      "source": [
        "print(\"######## Experiment 3: Dueling DQN Type 1 ############\\n\")\n",
        "print(\"######## Environment 2: Cartpole ############\")\n",
        "print(\" \")\n",
        "env = gym.make('CartPole-v1')\n",
        "env.seed(0)\n",
        "\n",
        "print(f\"Observation Space: {env.observation_space}\\n\")\n",
        "print(f\"Observation Space Shape: {env.observation_space.shape}\\n\")\n",
        "print(f\"Action Space: {env.action_space}\\n\")\n",
        "print(f\"Number of Actions: {env.action_space.n}\\n\")\n",
        "print(f\"Reward Threshold: {env.spec.reward_threshold}\")\n",
        "\n",
        "cartpole_agent_type1 = Agent(state_size=env.observation_space.shape[0], action_size=env.action_space.n, seed=0, qnetwork=QNetworkType1)"
      ]
    },
    {
      "cell_type": "markdown",
      "metadata": {},
      "source": [
        "## Training Over 5 Random Seeds"
      ]
    },
    {
      "cell_type": "code",
      "execution_count": 29,
      "metadata": {
        "colab": {
          "base_uri": "https://localhost:8080/"
        },
        "id": "YopQjvz3MSlP",
        "outputId": "9e41cc54-2575-45b4-c41c-173444e93151"
      },
      "outputs": [
        {
          "name": "stdout",
          "output_type": "stream",
          "text": [
            "\n",
            "Training with seed 1\n",
            "\n"
          ]
        },
        {
          "name": "stdout",
          "output_type": "stream",
          "text": [
            "Episode 100    Average Score: 18.67\n",
            "Episode 200    Average Score: 16.58\n",
            "Episode 300    Average Score: 39.42\n",
            "Episode 400    Average Score: 155.71\n",
            "Episode 500    Average Score: 245.58\n",
            "Episode 600    Average Score: 271.18\n",
            "Episode 700    Average Score: 285.92\n",
            "Episode 800    Average Score: 278.24\n",
            "Episode 900    Average Score: 268.32\n",
            "Episode 1000    Average Score: 257.59\n",
            "Episode 1100    Average Score: 260.63\n",
            "Episode 1200    Average Score: 276.86\n",
            "Episode 1300    Average Score: 268.87\n",
            "Episode 1400    Average Score: 280.59\n",
            "Episode 1500    Average Score: 275.7\n",
            "Episode 1600    Average Score: 288.1\n",
            "Episode 1700    Average Score: 292.57\n",
            "Episode 1800    Average Score: 304.16\n",
            "Episode 1900    Average Score: 314.2\n",
            "Episode 2000    Average Score: 323.44\n",
            "\n",
            "Training with seed 2\n",
            "\n",
            "Episode 100    Average Score: 26.95\n",
            "Episode 200    Average Score: 50.24\n",
            "Episode 300    Average Score: 83.21\n",
            "Episode 400    Average Score: 146.42\n",
            "Episode 500    Average Score: 244.78\n",
            "Episode 600    Average Score: 284.47\n",
            "Episode 700    Average Score: 319.4\n",
            "Episode 800    Average Score: 355.61\n",
            "Episode 900    Average Score: 413.08\n",
            "Episode 1000    Average Score: 463.78\n",
            "Environment solved in 1012 episodes !!!!   Average Score: 476.11\n",
            "\n",
            "Training with seed 3\n",
            "\n",
            "Episode 100    Average Score: 27.52\n",
            "Episode 200    Average Score: 49.19\n",
            "Episode 300    Average Score: 91.49\n",
            "Episode 400    Average Score: 182.88\n",
            "Episode 500    Average Score: 348.95\n",
            "Episode 600    Average Score: 430.89\n",
            "Environment solved in 675 episodes !!!!   Average Score: 475.81\n",
            "\n",
            "Training with seed 4\n",
            "\n",
            "Episode 100    Average Score: 27.93\n",
            "Episode 200    Average Score: 47.27\n",
            "Episode 300    Average Score: 91.31\n",
            "Episode 400    Average Score: 206.61\n",
            "Episode 500    Average Score: 332.8\n",
            "Episode 600    Average Score: 382.78\n",
            "Episode 700    Average Score: 291.74\n",
            "Episode 800    Average Score: 401.76\n",
            "Episode 900    Average Score: 414.58\n",
            "Episode 1000    Average Score: 376.48\n",
            "Episode 1100    Average Score: 431.98\n",
            "Episode 1200    Average Score: 412.19\n",
            "Episode 1300    Average Score: 403.66\n",
            "Episode 1400    Average Score: 461.42\n",
            "Environment solved in 1428 episodes !!!!   Average Score: 475.37\n",
            "\n",
            "Training with seed 5\n",
            "\n",
            "Episode 100    Average Score: 28.1\n",
            "Episode 200    Average Score: 43.49\n",
            "Episode 300    Average Score: 84.41\n",
            "Episode 400    Average Score: 213.38\n",
            "Episode 500    Average Score: 271.63\n",
            "Episode 600    Average Score: 400.19\n",
            "Episode 700    Average Score: 426.53\n",
            "Environment solved in 789 episodes !!!!   Average Score: 475.59\n"
          ]
        }
      ],
      "source": [
        "scores_experiment3 = multiple_experiments(agent=cartpole_agent_type1, exp_no=3)"
      ]
    },
    {
      "cell_type": "markdown",
      "metadata": {},
      "source": [
        "## Training Once (Save Model)"
      ]
    },
    {
      "cell_type": "code",
      "execution_count": 30,
      "metadata": {
        "colab": {
          "base_uri": "https://localhost:8080/"
        },
        "id": "rguF9mue9myO",
        "outputId": "dde9aded-563d-483e-c5f2-a19c49927f39"
      },
      "outputs": [
        {
          "name": "stdout",
          "output_type": "stream",
          "text": [
            "Episode 100    Average Score: 29.43\n",
            "Episode 200    Average Score: 41.54\n",
            "Episode 300    Average Score: 68.25\n",
            "Episode 400    Average Score: 159.37\n",
            "Episode 500    Average Score: 292.45\n",
            "Episode 600    Average Score: 378.04\n",
            "Episode 700    Average Score: 444.75\n",
            "Environment solved in 796 episodes !!!!   Average Score: 476.35\n"
          ]
        }
      ],
      "source": [
        "scores = duelingDQN(agent=cartpole_agent_type1, exp_no = 3)"
      ]
    },
    {
      "cell_type": "markdown",
      "metadata": {},
      "source": [
        "## Test Model (Video)"
      ]
    },
    {
      "cell_type": "code",
      "execution_count": null,
      "metadata": {
        "colab": {
          "base_uri": "https://localhost:8080/"
        },
        "id": "n77ILh0R6hmY",
        "outputId": "1314a030-38ed-4015-f7b0-f97bdf9ad975"
      },
      "outputs": [],
      "source": [
        "cartpole_agent_type1.qnetworkPrimary.load_state_dict(torch.load('cartpole_model_weights3.pth'))\n",
        "\n",
        "frames = []\n",
        "for _ in range(1):\n",
        "    state = env.reset()\n",
        "    for _ in range(500):\n",
        "        action = cartpole_agent_type1.move(state)\n",
        "        state, _, done, _ = env.step(action)\n",
        "        frames.append(env.render(mode='rgb_array'))\n",
        "        if done:\n",
        "            break\n",
        "\n",
        "image_dir = './cartpole_images_experiment3'\n",
        "os.makedirs(image_dir, exist_ok=True)\n",
        "for i, frame in enumerate(frames):\n",
        "    image_path = os.path.join(image_dir, f'frame_{i}.png')\n",
        "    plt.imsave(image_path, frame)\n",
        "\n",
        "import subprocess\n",
        "video_path = './cartpole_video_experiment3.mp4'\n",
        "subprocess.call(['ffmpeg', '-framerate', '25', '-i', os.path.join(image_dir, 'frame_%d.png'), '-c:v', 'libx264', '-pix_fmt', 'yuv420p', video_path])"
      ]
    },
    {
      "cell_type": "markdown",
      "metadata": {},
      "source": [
        "## Experiment 4: Cartpole - Type 2"
      ]
    },
    {
      "cell_type": "code",
      "execution_count": 32,
      "metadata": {
        "colab": {
          "base_uri": "https://localhost:8080/"
        },
        "id": "--zLtYWu9blS",
        "outputId": "1ebd08a5-4f65-4e91-bf64-d47ce2aa0f6f"
      },
      "outputs": [
        {
          "name": "stdout",
          "output_type": "stream",
          "text": [
            "######## Experiment 4: Dueling DQN Type 2 ############\n",
            "\n",
            "######## Environment 2: Cartpole ############\n",
            " \n",
            "Observation Space: Box([-4.8000002e+00 -3.4028235e+38 -4.1887903e-01 -3.4028235e+38], [4.8000002e+00 3.4028235e+38 4.1887903e-01 3.4028235e+38], (4,), float32)\n",
            "\n",
            "Observation Space Shape: (4,)\n",
            "\n",
            "Action Space: Discrete(2)\n",
            "\n",
            "Number of Actions: 2\n",
            "\n",
            "Reward Threshold: 475.0\n"
          ]
        }
      ],
      "source": [
        "print(\"######## Experiment 4: Dueling DQN Type 2 ############\\n\")\n",
        "print(\"######## Environment 2: Cartpole ############\")\n",
        "print(\" \")\n",
        "env = gym.make('CartPole-v1')\n",
        "env.seed(0)\n",
        "\n",
        "print(f\"Observation Space: {env.observation_space}\\n\")\n",
        "print(f\"Observation Space Shape: {env.observation_space.shape}\\n\")\n",
        "print(f\"Action Space: {env.action_space}\\n\")\n",
        "print(f\"Number of Actions: {env.action_space.n}\\n\")\n",
        "print(f\"Reward Threshold: {env.spec.reward_threshold}\")\n",
        "\n",
        "cartpole_agent_type2 = Agent(state_size=env.observation_space.shape[0], action_size=env.action_space.n, seed=0, qnetwork=QNetworkType2)"
      ]
    },
    {
      "cell_type": "markdown",
      "metadata": {},
      "source": [
        "## Training Over 5 Random Seeds"
      ]
    },
    {
      "cell_type": "code",
      "execution_count": 33,
      "metadata": {
        "colab": {
          "base_uri": "https://localhost:8080/"
        },
        "id": "4lBtZpBw9uG6",
        "outputId": "7b085fac-74cb-471b-e9dd-9498ae351452"
      },
      "outputs": [
        {
          "name": "stdout",
          "output_type": "stream",
          "text": [
            "\n",
            "Training with seed 1\n",
            "\n"
          ]
        },
        {
          "name": "stdout",
          "output_type": "stream",
          "text": [
            "Episode 100    Average Score: 22.71\n",
            "Episode 200    Average Score: 25.22\n",
            "Episode 300    Average Score: 76.5\n",
            "Episode 400    Average Score: 187.36\n",
            "Episode 500    Average Score: 255.1\n",
            "Episode 600    Average Score: 283.04\n",
            "Episode 700    Average Score: 281.75\n",
            "Episode 800    Average Score: 305.94\n",
            "Episode 900    Average Score: 304.22\n",
            "Episode 1000    Average Score: 310.4\n",
            "Episode 1100    Average Score: 321.53\n",
            "Episode 1200    Average Score: 337.09\n",
            "Episode 1300    Average Score: 348.45\n",
            "Episode 1400    Average Score: 355.23\n",
            "Episode 1500    Average Score: 357.16\n",
            "Episode 1600    Average Score: 353.88\n",
            "Episode 1700    Average Score: 359.49\n",
            "Episode 1800    Average Score: 370.88\n",
            "Episode 1900    Average Score: 373.73\n",
            "Episode 2000    Average Score: 406.13\n",
            "\n",
            "Training with seed 2\n",
            "\n",
            "Episode 100    Average Score: 29.23\n",
            "Episode 200    Average Score: 56.13\n",
            "Episode 300    Average Score: 117.44\n",
            "Episode 400    Average Score: 196.95\n",
            "Episode 500    Average Score: 281.86\n",
            "Episode 600    Average Score: 307.71\n",
            "Episode 700    Average Score: 385.56\n",
            "Episode 800    Average Score: 427.76\n",
            "Episode 900    Average Score: 441.03\n",
            "Episode 1000    Average Score: 442.97\n",
            "Episode 1100    Average Score: 440.98\n",
            "Episode 1200    Average Score: 451.13\n",
            "Episode 1300    Average Score: 475.1\n",
            "Environment solved in 1300 episodes !!!!   Average Score: 475.1\n",
            "\n",
            "Training with seed 3\n",
            "\n",
            "Episode 100    Average Score: 30.76\n",
            "Episode 200    Average Score: 50.26\n",
            "Episode 300    Average Score: 115.28\n",
            "Episode 400    Average Score: 229.28\n",
            "Episode 500    Average Score: 355.75\n",
            "Episode 600    Average Score: 459.58\n",
            "Environment solved in 613 episodes !!!!   Average Score: 476.03\n",
            "\n",
            "Training with seed 4\n",
            "\n",
            "Episode 100    Average Score: 28.45\n",
            "Episode 200    Average Score: 63.34\n",
            "Episode 300    Average Score: 131.22\n",
            "Episode 400    Average Score: 257.1\n",
            "Episode 500    Average Score: 433.7\n",
            "Episode 600    Average Score: 442.98\n",
            "Environment solved in 662 episodes !!!!   Average Score: 477.27\n",
            "\n",
            "Training with seed 5\n",
            "\n",
            "Episode 100    Average Score: 28.16\n",
            "Episode 200    Average Score: 48.01\n",
            "Episode 300    Average Score: 116.63\n",
            "Episode 400    Average Score: 192.52\n",
            "Episode 500    Average Score: 363.95\n",
            "Episode 600    Average Score: 428.78\n",
            "Episode 700    Average Score: 456.35\n",
            "Environment solved in 730 episodes !!!!   Average Score: 475.72\n"
          ]
        }
      ],
      "source": [
        "scores_experiment4 = multiple_experiments(agent=cartpole_agent_type2, exp_no=4)"
      ]
    },
    {
      "cell_type": "markdown",
      "metadata": {},
      "source": [
        "## Training Once (Save Model)"
      ]
    },
    {
      "cell_type": "code",
      "execution_count": 34,
      "metadata": {
        "colab": {
          "base_uri": "https://localhost:8080/"
        },
        "id": "gXSOC6fZ9uLe",
        "outputId": "0ebec978-7df7-41c5-d11e-9030fc499930"
      },
      "outputs": [
        {
          "name": "stdout",
          "output_type": "stream",
          "text": [
            "Episode 100    Average Score: 27.87\n",
            "Episode 200    Average Score: 52.58\n",
            "Episode 300    Average Score: 116.87\n",
            "Episode 400    Average Score: 205.7\n",
            "Episode 500    Average Score: 300.28\n",
            "Episode 600    Average Score: 434.96\n",
            "Episode 700    Average Score: 451.48\n",
            "Episode 800    Average Score: 404.25\n",
            "Episode 900    Average Score: 421.28\n",
            "Episode 1000    Average Score: 401.54\n",
            "Episode 1100    Average Score: 456.02\n",
            "Episode 1200    Average Score: 470.95\n",
            "Environment solved in 1227 episodes !!!!   Average Score: 475.49\n"
          ]
        }
      ],
      "source": [
        "scores = duelingDQN(agent=cartpole_agent_type2, exp_no = 4)"
      ]
    },
    {
      "cell_type": "markdown",
      "metadata": {},
      "source": [
        "## Testing Model (Video)"
      ]
    },
    {
      "cell_type": "code",
      "execution_count": null,
      "metadata": {
        "colab": {
          "base_uri": "https://localhost:8080/"
        },
        "id": "hr43K26-9yMe",
        "outputId": "536f6ac0-97a8-406c-9d7c-ca16b7883651"
      },
      "outputs": [],
      "source": [
        "cartpole_agent_type2.qnetworkPrimary.load_state_dict(torch.load('cartpole_model_weights4.pth'))\n",
        "\n",
        "frames = []\n",
        "for _ in range(1):\n",
        "    state = env.reset()\n",
        "    for _ in range(500):\n",
        "        action = cartpole_agent_type2.move(state)\n",
        "        state, _, done, _ = env.step(action)\n",
        "        frames.append(env.render(mode='rgb_array'))\n",
        "        if done:\n",
        "            break\n",
        "\n",
        "image_dir = './cartpole_images_experiment4'\n",
        "os.makedirs(image_dir, exist_ok=True)\n",
        "for i, frame in enumerate(frames):\n",
        "    image_path = os.path.join(image_dir, f'frame_{i}.png')\n",
        "    plt.imsave(image_path, frame)\n",
        "\n",
        "import subprocess\n",
        "video_path = './cartpole_video_experiment4.mp4'\n",
        "subprocess.call(['ffmpeg', '-framerate', '25', '-i', os.path.join(image_dir, 'frame_%d.png'), '-c:v', 'libx264', '-pix_fmt', 'yuv420p', video_path])"
      ]
    },
    {
      "cell_type": "markdown",
      "metadata": {},
      "source": [
        "## Plot for Mean and Variance (Type 1 vs Type 2)"
      ]
    },
    {
      "cell_type": "code",
      "execution_count": 42,
      "metadata": {},
      "outputs": [
        {
          "data": {
            "image/png": "[encoded data removed]",
            "text/plain": [
              "<Figure size 640x480 with 1 Axes>"
            ]
          },
          "metadata": {},
          "output_type": "display_data"
        }
      ],
      "source": [
        "window_size = 30\n",
        "scores1, scores2 = [], []\n",
        "\n",
        "for i in range(5):\n",
        "    scores1.append(np.convolve(scores_experiment3[i], np.ones(window_size)/window_size, mode=\"valid\"))\n",
        "    scores2.append(np.convolve(scores_experiment4[i], np.ones(window_size)/window_size, mode=\"valid\"))\n",
        "\n",
        "mean_scores_exp3, mean_scores_exp4 = np.mean(scores1, axis=0), np.mean(scores2, axis=0)\n",
        "std_scores_exp3, std_scores_exp4 = np.std(scores1, axis=0), np.std(scores2, axis=0)\n",
        "\n",
        "sns.lineplot(x=range(len(mean_scores_exp3)), y=mean_scores_exp3, linewidth=1, label='Type 1', color=\"red\")\n",
        "sns.lineplot(x=range(len(mean_scores_exp4)), y=mean_scores_exp4, linewidth=1, label='Type 2', color=\"skyblue\")\n",
        "\n",
        "plt.fill_between(\n",
        "    x=range(len(mean_scores_exp3)),\n",
        "    y1=mean_scores_exp3 - std_scores_exp3[0:len(mean_scores_exp3)],\n",
        "    y2=mean_scores_exp3 + std_scores_exp3[0:len(mean_scores_exp3)],\n",
        "    alpha=0.2, \n",
        "    color='red'\n",
        ")\n",
        "plt.fill_between(\n",
        "    x=range(len(mean_scores_exp4)),\n",
        "    y1=mean_scores_exp4 - std_scores_exp4[0:len(mean_scores_exp4)],\n",
        "    y2=mean_scores_exp4 + std_scores_exp4[0:len(mean_scores_exp4)],\n",
        "    alpha=0.2,\n",
        "    color='skyblue'\n",
        ")\n",
        "\n",
        "plt.xlabel('Episode Number')\n",
        "plt.ylabel('Episodic Return')\n",
        "plt.title('Dueling DQN (Cartpole)')\n",
        "plt.legend()\n",
        "plt.show()\n"
      ]
    }
  ],
  "metadata": {
    "colab": {
      "provenance": []
    },
    "kernelspec": {
      "display_name": "Python 3",
      "name": "python3"
    },
    "language_info": {
      "codemirror_mode": {
        "name": "ipython",
        "version": 3
      },
      "file_extension": ".py",
      "mimetype": "text/x-python",
      "name": "python",
      "nbconvert_exporter": "python",
      "pygments_lexer": "ipython3",
      "version": "3.8.10"
    }
  },
  "nbformat": 4,
  "nbformat_minor": 0
}
